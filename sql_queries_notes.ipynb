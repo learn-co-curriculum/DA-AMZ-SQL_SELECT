{
 "cells": [
  {
   "cell_type": "markdown",
   "metadata": {
    "toc": true
   },
   "source": [
    "<h1>Table of Contents<span class=\"tocSkip\"></span></h1>\n",
    "<div class=\"toc\"><ul class=\"toc-item\"><li><span><a href=\"#Objectives\" data-toc-modified-id=\"Objectives-1\"><span class=\"toc-item-num\">1&nbsp;&nbsp;</span>Objectives</a></span></li><li><span><a href=\"#Motivation\" data-toc-modified-id=\"Motivation-2\"><span class=\"toc-item-num\">2&nbsp;&nbsp;</span>Motivation</a></span></li><li><span><a href=\"#Relational-Databases\" data-toc-modified-id=\"Relational-Databases-3\"><span class=\"toc-item-num\">3&nbsp;&nbsp;</span>Relational Databases</a></span><ul class=\"toc-item\"><li><span><a href=\"#Database-Schema\" data-toc-modified-id=\"Database-Schema-3.1\"><span class=\"toc-item-num\">3.1&nbsp;&nbsp;</span>Database Schema</a></span></li><li><span><a href=\"#Columns\" data-toc-modified-id=\"Columns-3.2\"><span class=\"toc-item-num\">3.2&nbsp;&nbsp;</span>Columns</a></span></li><li><span><a href=\"#Keys\" data-toc-modified-id=\"Keys-3.3\"><span class=\"toc-item-num\">3.3&nbsp;&nbsp;</span>Keys</a></span></li></ul></li><li><span><a href=\"#SQLite\" data-toc-modified-id=\"SQLite-4\"><span class=\"toc-item-num\">4&nbsp;&nbsp;</span>SQLite</a></span><ul class=\"toc-item\"><li><span><a href=\"#Sidebar:-More-About-SQLite\" data-toc-modified-id=\"Sidebar:-More-About-SQLite-4.1\"><span class=\"toc-item-num\">4.1&nbsp;&nbsp;</span><em>Sidebar: More About SQLite</em></a></span></li><li><span><a href=\"#Load-a-SQLite-DB\" data-toc-modified-id=\"Load-a-SQLite-DB-4.2\"><span class=\"toc-item-num\">4.2&nbsp;&nbsp;</span>Load a SQLite DB</a></span></li><li><span><a href=\"#Query-the-airports-Table\" data-toc-modified-id=\"Query-the-airports-Table-4.3\"><span class=\"toc-item-num\">4.3&nbsp;&nbsp;</span>Query the <code>airports</code> Table</a></span></li><li><span><a href=\"#pd.read_sql()\" data-toc-modified-id=\"pd.read_sql()-4.4\"><span class=\"toc-item-num\">4.4&nbsp;&nbsp;</span><code>pd.read_sql()</code></a></span></li><li><span><a href=\"#Explore-the-Schema\" data-toc-modified-id=\"Explore-the-Schema-4.5\"><span class=\"toc-item-num\">4.5&nbsp;&nbsp;</span>Explore the Schema</a></span></li><li><span><a href=\"#Exercise\" data-toc-modified-id=\"Exercise-4.6\"><span class=\"toc-item-num\">4.6&nbsp;&nbsp;</span>Exercise</a></span></li></ul></li><li><span><a href=\"#Writing-SQL-Queries\" data-toc-modified-id=\"Writing-SQL-Queries-5\"><span class=\"toc-item-num\">5&nbsp;&nbsp;</span>Writing SQL Queries</a></span><ul class=\"toc-item\"><li><span><a href=\"#SELECT-Statement\" data-toc-modified-id=\"SELECT-Statement-5.1\"><span class=\"toc-item-num\">5.1&nbsp;&nbsp;</span>SELECT Statement</a></span></li><li><span><a href=\"#SELECT:-Picking-Columns\" data-toc-modified-id=\"SELECT:-Picking-Columns-5.2\"><span class=\"toc-item-num\">5.2&nbsp;&nbsp;</span>SELECT: Picking Columns</a></span><ul class=\"toc-item\"><li><span><a href=\"#DISTINCT\" data-toc-modified-id=\"DISTINCT-5.2.1\"><span class=\"toc-item-num\">5.2.1&nbsp;&nbsp;</span><code>DISTINCT</code></a></span></li><li><span><a href=\"#AS\" data-toc-modified-id=\"AS-5.2.2\"><span class=\"toc-item-num\">5.2.2&nbsp;&nbsp;</span><code>AS</code></a></span></li><li><span><a href=\"#Functions\" data-toc-modified-id=\"Functions-5.2.3\"><span class=\"toc-item-num\">5.2.3&nbsp;&nbsp;</span>Functions</a></span><ul class=\"toc-item\"><li><span><a href=\"#Aggregation\" data-toc-modified-id=\"Aggregation-5.2.3.1\"><span class=\"toc-item-num\">5.2.3.1&nbsp;&nbsp;</span>Aggregation</a></span></li><li><span><a href=\"#Datatype-Compatibility\" data-toc-modified-id=\"Datatype-Compatibility-5.2.3.2\"><span class=\"toc-item-num\">5.2.3.2&nbsp;&nbsp;</span>Datatype Compatibility</a></span></li><li><span><a href=\"#CAST()\" data-toc-modified-id=\"CAST()-5.2.3.3\"><span class=\"toc-item-num\">5.2.3.3&nbsp;&nbsp;</span><code>CAST()</code></a></span></li></ul></li><li><span><a href=\"#Exercise\" data-toc-modified-id=\"Exercise-5.2.4\"><span class=\"toc-item-num\">5.2.4&nbsp;&nbsp;</span>Exercise</a></span></li></ul></li><li><span><a href=\"#FROM:-Picking-Tables\" data-toc-modified-id=\"FROM:-Picking-Tables-5.3\"><span class=\"toc-item-num\">5.3&nbsp;&nbsp;</span>FROM: Picking Tables</a></span></li><li><span><a href=\"#WHERE:-Picking-Rows\" data-toc-modified-id=\"WHERE:-Picking-Rows-5.4\"><span class=\"toc-item-num\">5.4&nbsp;&nbsp;</span>WHERE: Picking Rows</a></span><ul class=\"toc-item\"><li><span><a href=\"#IS\" data-toc-modified-id=\"IS-5.4.1\"><span class=\"toc-item-num\">5.4.1&nbsp;&nbsp;</span><code>IS</code></a></span></li></ul></li><li><span><a href=\"#ORDER-BY:-Sorting-Results\" data-toc-modified-id=\"ORDER-BY:-Sorting-Results-5.5\"><span class=\"toc-item-num\">5.5&nbsp;&nbsp;</span>ORDER BY: Sorting Results</a></span></li><li><span><a href=\"#LIMIT:-Number-of-Results\" data-toc-modified-id=\"LIMIT:-Number-of-Results-5.6\"><span class=\"toc-item-num\">5.6&nbsp;&nbsp;</span>LIMIT: Number of Results</a></span></li></ul></li><li><span><a href=\"#Exercises\" data-toc-modified-id=\"Exercises-6\"><span class=\"toc-item-num\">6&nbsp;&nbsp;</span>Exercises</a></span><ul class=\"toc-item\"><li><span><a href=\"#Country-List\" data-toc-modified-id=\"Country-List-6.1\"><span class=\"toc-item-num\">6.1&nbsp;&nbsp;</span>Country List</a></span></li><li><span><a href=\"#Southern-Airports\" data-toc-modified-id=\"Southern-Airports-6.2\"><span class=\"toc-item-num\">6.2&nbsp;&nbsp;</span>Southern Airports</a></span></li><li><span><a href=\"#Active-UK-Airlines\" data-toc-modified-id=\"Active-UK-Airlines-6.3\"><span class=\"toc-item-num\">6.3&nbsp;&nbsp;</span>Active UK Airlines</a></span></li><li><span><a href=\"#Explore-Routes\" data-toc-modified-id=\"Explore-Routes-6.4\"><span class=\"toc-item-num\">6.4&nbsp;&nbsp;</span>Explore Routes</a></span></li></ul></li><li><span><a href=\"#Level-Up:-CASE\" data-toc-modified-id=\"Level-Up:-CASE-7\"><span class=\"toc-item-num\">7&nbsp;&nbsp;</span>Level Up: <code>CASE</code></a></span></li><li><span><a href=\"#Level-Up:-SQL-Joins\" data-toc-modified-id=\"Level-Up:-SQL-Joins-8\"><span class=\"toc-item-num\">8&nbsp;&nbsp;</span>Level Up: SQL Joins</a></span></li></ul></div>"
   ]
  },
  {
   "cell_type": "markdown",
   "metadata": {
    "slideshow": {
     "slide_type": "slide"
    }
   },
   "source": [
    "![sql](img/sql-logo.jpg)"
   ]
  },
  {
   "cell_type": "markdown",
   "metadata": {
    "heading_collapsed": true,
    "slideshow": {
     "slide_type": "slide"
    }
   },
   "source": [
    "# Objectives"
   ]
  },
  {
   "cell_type": "markdown",
   "metadata": {
    "hidden": true,
    "slideshow": {
     "slide_type": "slide"
    }
   },
   "source": [
    "- Describe relational databases\n",
    "- Connect to a SQLite database and get schema information\n",
    "- Use SQL SELECT and `pd.read_sql()` to query databases \n",
    "- Use WHERE, ORDER BY, and LIMIT to modify queries"
   ]
  },
  {
   "cell_type": "markdown",
   "metadata": {
    "heading_collapsed": true
   },
   "source": [
    "# Motivation"
   ]
  },
  {
   "cell_type": "markdown",
   "metadata": {
    "hidden": true
   },
   "source": [
    "Most data aren't stored in static files like CSVs or JSONs. Rather, data are typically stored in **databases** that make it easy for many users to store, update, share, and access data in real time. CSVs and JSONs are just extracts of some data from those databases.\n",
    "\n",
    "**Structured Query Language (SQL)** is a common language for interacting with databases, and will be invaluable for you in almost any data role. You will use it often to get the data that you need for your analyses."
   ]
  },
  {
   "cell_type": "markdown",
   "metadata": {
    "heading_collapsed": true,
    "slideshow": {
     "slide_type": "slide"
    }
   },
   "source": [
    "# Relational Databases"
   ]
  },
  {
   "cell_type": "markdown",
   "metadata": {
    "hidden": true,
    "slideshow": {
     "slide_type": "slide"
    }
   },
   "source": [
    "**Relational databases** typically have multiple **tables** containing data, and the tables have defined relationships."
   ]
  },
  {
   "cell_type": "markdown",
   "metadata": {
    "hidden": true,
    "slideshow": {
     "slide_type": "slide"
    }
   },
   "source": [
    "![rdb](img/relational-dbms-model.png)\n",
    "[reference for image ](https://www.studytonight.com/dbms/database-model.php)"
   ]
  },
  {
   "cell_type": "markdown",
   "metadata": {
    "heading_collapsed": true,
    "hidden": true,
    "slideshow": {
     "slide_type": "slide"
    }
   },
   "source": [
    "## Database Schema"
   ]
  },
  {
   "cell_type": "markdown",
   "metadata": {
    "hidden": true,
    "slideshow": {
     "slide_type": "slide"
    }
   },
   "source": [
    "Each database has a **schema** that defines the structure of the database, including the tables and relationships between tables."
   ]
  },
  {
   "cell_type": "markdown",
   "metadata": {
    "hidden": true,
    "slideshow": {
     "slide_type": "slide"
    }
   },
   "source": [
    "![schema](img/MySQL_Schema_Music_Example.png)\n",
    "\n",
    "[source of image](https://database.guide/what-is-a-database-schema/)"
   ]
  },
  {
   "cell_type": "markdown",
   "metadata": {
    "heading_collapsed": true,
    "hidden": true,
    "slideshow": {
     "slide_type": "slide"
    }
   },
   "source": [
    "##  Columns"
   ]
  },
  {
   "cell_type": "markdown",
   "metadata": {
    "hidden": true,
    "slideshow": {
     "slide_type": "slide"
    }
   },
   "source": [
    "Similar to how DataFrames can have multiple Series, tables can have multiple **columns** (aka \"fields\"). Each column has a datatype, but the datatypes available for SQL table columns differ from the datatypes in `pandas`. "
   ]
  },
  {
   "cell_type": "markdown",
   "metadata": {
    "hidden": true,
    "slideshow": {
     "slide_type": "slide"
    }
   },
   "source": [
    "![table example](img/columns.png)"
   ]
  },
  {
   "cell_type": "markdown",
   "metadata": {
    "heading_collapsed": true,
    "hidden": true,
    "slideshow": {
     "slide_type": "slide"
    }
   },
   "source": [
    "## Keys"
   ]
  },
  {
   "cell_type": "markdown",
   "metadata": {
    "hidden": true,
    "slideshow": {
     "slide_type": "slide"
    }
   },
   "source": [
    "A **primary key** uniquely identifies each row in a table. This is often a unique ID number.\n",
    "A **foreign key** is used in one table to refer to the primary key from another table. "
   ]
  },
  {
   "cell_type": "markdown",
   "metadata": {
    "hidden": true,
    "slideshow": {
     "slide_type": "slide"
    }
   },
   "source": [
    "We **join** tables using these keys to get data from multiple tables at once - we will cover this in a future lesson on SQL Joins."
   ]
  },
  {
   "cell_type": "markdown",
   "metadata": {
    "hidden": true,
    "slideshow": {
     "slide_type": "slide"
    }
   },
   "source": [
    "![rdb](img/relational-dbms-model.png)\n",
    "[reference for image ](https://www.studytonight.com/dbms/database-model.php)"
   ]
  },
  {
   "cell_type": "markdown",
   "metadata": {
    "heading_collapsed": true,
    "slideshow": {
     "slide_type": "slide"
    }
   },
   "source": [
    "# SQLite"
   ]
  },
  {
   "cell_type": "markdown",
   "metadata": {
    "hidden": true,
    "slideshow": {
     "slide_type": "slide"
    }
   },
   "source": [
    "![sqlite](img/SQLite-Python.jpg)"
   ]
  },
  {
   "cell_type": "markdown",
   "metadata": {
    "hidden": true
   },
   "source": [
    "SQLite is one of many tools that exist to create databases. We use it here because it is easy to integrate into a Jupyter Notebook using the `sqlite3` package. \n",
    "\n",
    "There are many other database tools out there, and they all work somewhat differently with their own SQL dialects. Just know that the specific methods or syntax you see here will differ slightly in other database implementations."
   ]
  },
  {
   "cell_type": "markdown",
   "metadata": {
    "heading_collapsed": true,
    "hidden": true,
    "slideshow": {
     "slide_type": "slide"
    }
   },
   "source": [
    "## _Sidebar: More About SQLite_"
   ]
  },
  {
   "cell_type": "markdown",
   "metadata": {
    "hidden": true,
    "slideshow": {
     "slide_type": "slide"
    }
   },
   "source": [
    "\"SQLite is a C library that provides a lightweight disk-based database that doesn’t require a separate server process and allows accessing the database using a nonstandard variant of the SQL query language. Some applications can use SQLite for internal data storage. It’s also possible to prototype an application using SQLite and then port the code to a larger database such as PostgreSQL or Oracle.\" - [sqlite documentation](https://docs.python.org/2/library/sqlite3.html)"
   ]
  },
  {
   "cell_type": "markdown",
   "metadata": {
    "heading_collapsed": true,
    "hidden": true,
    "slideshow": {
     "slide_type": "slide"
    }
   },
   "source": [
    "## Load a SQLite DB"
   ]
  },
  {
   "cell_type": "markdown",
   "metadata": {
    "hidden": true,
    "slideshow": {
     "slide_type": "slide"
    }
   },
   "source": [
    "Import the `sqlite3` package, which will allow us to load a SQLite database."
   ]
  },
  {
   "cell_type": "code",
   "execution_count": 1,
   "metadata": {
    "hidden": true,
    "slideshow": {
     "slide_type": "fragment"
    }
   },
   "outputs": [],
   "source": [
    "import sqlite3"
   ]
  },
  {
   "cell_type": "markdown",
   "metadata": {
    "hidden": true
   },
   "source": [
    "In this repository is a `flights.db` file that we can open as a SQLite database. This database contains tables with information about airlines, airports, and flight routes."
   ]
  },
  {
   "cell_type": "code",
   "execution_count": 2,
   "metadata": {
    "hidden": true
   },
   "outputs": [
    {
     "name": "stdout",
     "output_type": "stream",
     "text": [
      "LICENSE                 flights.db              sql_queries.ipynb\n",
      "README.md               \u001b[34mimg\u001b[m\u001b[m                     sql_queries_notes.ipynb\n"
     ]
    }
   ],
   "source": [
    "!ls"
   ]
  },
  {
   "cell_type": "markdown",
   "metadata": {
    "hidden": true
   },
   "source": [
    "First, we'll use the `sqlite3` package to create a connection to the database, which is currently just stored in that file on our 'hard drive' in illumidesk (you don't actually have hard disk memory through illumidesk -> all files are hosted on an external server) ."
   ]
  },
  {
   "cell_type": "code",
   "execution_count": 3,
   "metadata": {
    "hidden": true,
    "slideshow": {
     "slide_type": "fragment"
    }
   },
   "outputs": [],
   "source": [
    "# create a connection object to connect with db.\n",
    "con = sqlite3.connect('flights.db')"
   ]
  },
  {
   "cell_type": "markdown",
   "metadata": {
    "hidden": true
   },
   "source": [
    "Next, we'll create a cursor to interact with the database. Like the cursor for your mouse interacts with pixels on your screen, this cursor will allow us to interact with the elements of the database."
   ]
  },
  {
   "cell_type": "code",
   "execution_count": 4,
   "metadata": {
    "hidden": true
   },
   "outputs": [],
   "source": [
    "# create variable/object for our cursor.\n",
    "cursor = con.cursor()"
   ]
  },
  {
   "cell_type": "markdown",
   "metadata": {
    "heading_collapsed": true,
    "hidden": true,
    "slideshow": {
     "slide_type": "slide"
    }
   },
   "source": [
    "## Query the `airports` Table"
   ]
  },
  {
   "cell_type": "markdown",
   "metadata": {
    "hidden": true
   },
   "source": [
    "We will write a simple query using the SQL SELECT statement, which returns data from the database. We write the query as a string, which will then get parsed via the `sqlite3` package.\n",
    "\n",
    "In this case, we say `SELECT *` to specify that we want data from all columns, and we say `FROM airports` to specify that we want data from the `airports` table."
   ]
  },
  {
   "cell_type": "code",
   "execution_count": 5,
   "metadata": {
    "hidden": true
   },
   "outputs": [],
   "source": [
    "# column names follow the SELECT command, one can use * to select\n",
    "# all columns or the singular column names themselves.\n",
    "airports_query = \\\n",
    "\"\"\"\n",
    "SELECT *\n",
    "FROM airports\n",
    "\"\"\""
   ]
  },
  {
   "cell_type": "markdown",
   "metadata": {
    "hidden": true
   },
   "source": [
    "To run this query, we use the `.execute()` method with our cursor."
   ]
  },
  {
   "cell_type": "code",
   "execution_count": 6,
   "metadata": {
    "hidden": true
   },
   "outputs": [
    {
     "data": {
      "text/plain": [
       "<sqlite3.Cursor at 0x7fc85ab8ba40>"
      ]
     },
     "execution_count": 6,
     "metadata": {},
     "output_type": "execute_result"
    }
   ],
   "source": [
    "cursor.execute(airports_query)"
   ]
  },
  {
   "cell_type": "markdown",
   "metadata": {
    "hidden": true
   },
   "source": [
    "Note that the `.execute()` method didn't actually return our data. The data is now just available in our cursor object. We'll use the `.fetchall()` method to get all the rows from our query."
   ]
  },
  {
   "cell_type": "code",
   "execution_count": 7,
   "metadata": {
    "hidden": true
   },
   "outputs": [
    {
     "data": {
      "text/plain": [
       "[(0,\n",
       "  '1',\n",
       "  'Goroka',\n",
       "  'Goroka',\n",
       "  'Papua New Guinea',\n",
       "  'GKA',\n",
       "  'AYGA',\n",
       "  '-6.081689',\n",
       "  '145.391881',\n",
       "  '5282',\n",
       "  '10',\n",
       "  'U',\n",
       "  'Pacific/Port_Moresby'),\n",
       " (1,\n",
       "  '2',\n",
       "  'Madang',\n",
       "  'Madang',\n",
       "  'Papua New Guinea',\n",
       "  'MAG',\n",
       "  'AYMD',\n",
       "  '-5.207083',\n",
       "  '145.7887',\n",
       "  '20',\n",
       "  '10',\n",
       "  'U',\n",
       "  'Pacific/Port_Moresby'),\n",
       " (2,\n",
       "  '3',\n",
       "  'Mount Hagen',\n",
       "  'Mount Hagen',\n",
       "  'Papua New Guinea',\n",
       "  'HGU',\n",
       "  'AYMH',\n",
       "  '-5.826789',\n",
       "  '144.295861',\n",
       "  '5388',\n",
       "  '10',\n",
       "  'U',\n",
       "  'Pacific/Port_Moresby'),\n",
       " (3,\n",
       "  '4',\n",
       "  'Nadzab',\n",
       "  'Nadzab',\n",
       "  'Papua New Guinea',\n",
       "  'LAE',\n",
       "  'AYNZ',\n",
       "  '-6.569828',\n",
       "  '146.726242',\n",
       "  '239',\n",
       "  '10',\n",
       "  'U',\n",
       "  'Pacific/Port_Moresby'),\n",
       " (4,\n",
       "  '5',\n",
       "  'Port Moresby Jacksons Intl',\n",
       "  'Port Moresby',\n",
       "  'Papua New Guinea',\n",
       "  'POM',\n",
       "  'AYPY',\n",
       "  '-9.443383',\n",
       "  '147.22005',\n",
       "  '146',\n",
       "  '10',\n",
       "  'U',\n",
       "  'Pacific/Port_Moresby')]"
      ]
     },
     "execution_count": 7,
     "metadata": {},
     "output_type": "execute_result"
    }
   ],
   "source": [
    "cursor.fetchall()[0:5]"
   ]
  },
  {
   "cell_type": "markdown",
   "metadata": {
    "hidden": true,
    "slideshow": {
     "slide_type": "slide"
    }
   },
   "source": [
    "Looks like we got some data, but it's not clear what each element represents. We can view the column names in the cursor's `description` attribute."
   ]
  },
  {
   "cell_type": "code",
   "execution_count": 8,
   "metadata": {
    "hidden": true,
    "slideshow": {
     "slide_type": "fragment"
    }
   },
   "outputs": [
    {
     "data": {
      "text/plain": [
       "(('index', None, None, None, None, None, None),\n",
       " ('id', None, None, None, None, None, None),\n",
       " ('name', None, None, None, None, None, None),\n",
       " ('city', None, None, None, None, None, None),\n",
       " ('country', None, None, None, None, None, None),\n",
       " ('code', None, None, None, None, None, None),\n",
       " ('icao', None, None, None, None, None, None),\n",
       " ('latitude', None, None, None, None, None, None),\n",
       " ('longitude', None, None, None, None, None, None),\n",
       " ('altitude', None, None, None, None, None, None),\n",
       " ('offset', None, None, None, None, None, None),\n",
       " ('dst', None, None, None, None, None, None),\n",
       " ('timezone', None, None, None, None, None, None))"
      ]
     },
     "execution_count": 8,
     "metadata": {},
     "output_type": "execute_result"
    }
   ],
   "source": [
    "cursor.description"
   ]
  },
  {
   "cell_type": "markdown",
   "metadata": {
    "heading_collapsed": true,
    "hidden": true
   },
   "source": [
    "## `pd.read_sql()`"
   ]
  },
  {
   "cell_type": "markdown",
   "metadata": {
    "hidden": true
   },
   "source": [
    "We can get the data and the column names into a nice, tidy DataFrame using `pd.read_sql()`"
   ]
  },
  {
   "cell_type": "code",
   "execution_count": 9,
   "metadata": {
    "hidden": true
   },
   "outputs": [
    {
     "data": {
      "text/html": [
       "<div>\n",
       "<style scoped>\n",
       "    .dataframe tbody tr th:only-of-type {\n",
       "        vertical-align: middle;\n",
       "    }\n",
       "\n",
       "    .dataframe tbody tr th {\n",
       "        vertical-align: top;\n",
       "    }\n",
       "\n",
       "    .dataframe thead th {\n",
       "        text-align: right;\n",
       "    }\n",
       "</style>\n",
       "<table border=\"1\" class=\"dataframe\">\n",
       "  <thead>\n",
       "    <tr style=\"text-align: right;\">\n",
       "      <th></th>\n",
       "      <th>index</th>\n",
       "      <th>id</th>\n",
       "      <th>name</th>\n",
       "      <th>city</th>\n",
       "      <th>country</th>\n",
       "      <th>code</th>\n",
       "      <th>icao</th>\n",
       "      <th>latitude</th>\n",
       "      <th>longitude</th>\n",
       "      <th>altitude</th>\n",
       "      <th>offset</th>\n",
       "      <th>dst</th>\n",
       "      <th>timezone</th>\n",
       "    </tr>\n",
       "  </thead>\n",
       "  <tbody>\n",
       "    <tr>\n",
       "      <th>0</th>\n",
       "      <td>0</td>\n",
       "      <td>1</td>\n",
       "      <td>Goroka</td>\n",
       "      <td>Goroka</td>\n",
       "      <td>Papua New Guinea</td>\n",
       "      <td>GKA</td>\n",
       "      <td>AYGA</td>\n",
       "      <td>-6.081689</td>\n",
       "      <td>145.391881</td>\n",
       "      <td>5282</td>\n",
       "      <td>10</td>\n",
       "      <td>U</td>\n",
       "      <td>Pacific/Port_Moresby</td>\n",
       "    </tr>\n",
       "    <tr>\n",
       "      <th>1</th>\n",
       "      <td>1</td>\n",
       "      <td>2</td>\n",
       "      <td>Madang</td>\n",
       "      <td>Madang</td>\n",
       "      <td>Papua New Guinea</td>\n",
       "      <td>MAG</td>\n",
       "      <td>AYMD</td>\n",
       "      <td>-5.207083</td>\n",
       "      <td>145.7887</td>\n",
       "      <td>20</td>\n",
       "      <td>10</td>\n",
       "      <td>U</td>\n",
       "      <td>Pacific/Port_Moresby</td>\n",
       "    </tr>\n",
       "    <tr>\n",
       "      <th>2</th>\n",
       "      <td>2</td>\n",
       "      <td>3</td>\n",
       "      <td>Mount Hagen</td>\n",
       "      <td>Mount Hagen</td>\n",
       "      <td>Papua New Guinea</td>\n",
       "      <td>HGU</td>\n",
       "      <td>AYMH</td>\n",
       "      <td>-5.826789</td>\n",
       "      <td>144.295861</td>\n",
       "      <td>5388</td>\n",
       "      <td>10</td>\n",
       "      <td>U</td>\n",
       "      <td>Pacific/Port_Moresby</td>\n",
       "    </tr>\n",
       "    <tr>\n",
       "      <th>3</th>\n",
       "      <td>3</td>\n",
       "      <td>4</td>\n",
       "      <td>Nadzab</td>\n",
       "      <td>Nadzab</td>\n",
       "      <td>Papua New Guinea</td>\n",
       "      <td>LAE</td>\n",
       "      <td>AYNZ</td>\n",
       "      <td>-6.569828</td>\n",
       "      <td>146.726242</td>\n",
       "      <td>239</td>\n",
       "      <td>10</td>\n",
       "      <td>U</td>\n",
       "      <td>Pacific/Port_Moresby</td>\n",
       "    </tr>\n",
       "    <tr>\n",
       "      <th>4</th>\n",
       "      <td>4</td>\n",
       "      <td>5</td>\n",
       "      <td>Port Moresby Jacksons Intl</td>\n",
       "      <td>Port Moresby</td>\n",
       "      <td>Papua New Guinea</td>\n",
       "      <td>POM</td>\n",
       "      <td>AYPY</td>\n",
       "      <td>-9.443383</td>\n",
       "      <td>147.22005</td>\n",
       "      <td>146</td>\n",
       "      <td>10</td>\n",
       "      <td>U</td>\n",
       "      <td>Pacific/Port_Moresby</td>\n",
       "    </tr>\n",
       "  </tbody>\n",
       "</table>\n",
       "</div>"
      ],
      "text/plain": [
       "   index id                        name          city           country code  \\\n",
       "0      0  1                      Goroka        Goroka  Papua New Guinea  GKA   \n",
       "1      1  2                      Madang        Madang  Papua New Guinea  MAG   \n",
       "2      2  3                 Mount Hagen   Mount Hagen  Papua New Guinea  HGU   \n",
       "3      3  4                      Nadzab        Nadzab  Papua New Guinea  LAE   \n",
       "4      4  5  Port Moresby Jacksons Intl  Port Moresby  Papua New Guinea  POM   \n",
       "\n",
       "   icao   latitude   longitude altitude offset dst              timezone  \n",
       "0  AYGA  -6.081689  145.391881     5282     10   U  Pacific/Port_Moresby  \n",
       "1  AYMD  -5.207083    145.7887       20     10   U  Pacific/Port_Moresby  \n",
       "2  AYMH  -5.826789  144.295861     5388     10   U  Pacific/Port_Moresby  \n",
       "3  AYNZ  -6.569828  146.726242      239     10   U  Pacific/Port_Moresby  \n",
       "4  AYPY  -9.443383   147.22005      146     10   U  Pacific/Port_Moresby  "
      ]
     },
     "execution_count": 9,
     "metadata": {},
     "output_type": "execute_result"
    }
   ],
   "source": [
    "import pandas as pd\n",
    "\n",
    "airports_df = pd.read_sql(airports_query, con)\n",
    "airports_df.head()"
   ]
  },
  {
   "cell_type": "markdown",
   "metadata": {
    "heading_collapsed": true,
    "hidden": true,
    "slideshow": {
     "slide_type": "slide"
    }
   },
   "source": [
    "## Explore the Schema"
   ]
  },
  {
   "cell_type": "markdown",
   "metadata": {
    "hidden": true,
    "slideshow": {
     "slide_type": "slide"
    }
   },
   "source": [
    "In SQLite, the schema of our database lives in the `sqlite_master` table. More info [here](https://www.techonthenet.com/sqlite/sys_tables/index.php)."
   ]
  },
  {
   "cell_type": "code",
   "execution_count": 10,
   "metadata": {
    "hidden": true
   },
   "outputs": [
    {
     "data": {
      "text/html": [
       "<div>\n",
       "<style scoped>\n",
       "    .dataframe tbody tr th:only-of-type {\n",
       "        vertical-align: middle;\n",
       "    }\n",
       "\n",
       "    .dataframe tbody tr th {\n",
       "        vertical-align: top;\n",
       "    }\n",
       "\n",
       "    .dataframe thead th {\n",
       "        text-align: right;\n",
       "    }\n",
       "</style>\n",
       "<table border=\"1\" class=\"dataframe\">\n",
       "  <thead>\n",
       "    <tr style=\"text-align: right;\">\n",
       "      <th></th>\n",
       "      <th>type</th>\n",
       "      <th>name</th>\n",
       "      <th>tbl_name</th>\n",
       "      <th>rootpage</th>\n",
       "      <th>sql</th>\n",
       "    </tr>\n",
       "  </thead>\n",
       "  <tbody>\n",
       "    <tr>\n",
       "      <th>0</th>\n",
       "      <td>table</td>\n",
       "      <td>airports</td>\n",
       "      <td>airports</td>\n",
       "      <td>2</td>\n",
       "      <td>CREATE TABLE airports (\\n[index] INTEGER,\\n  [...</td>\n",
       "    </tr>\n",
       "    <tr>\n",
       "      <th>1</th>\n",
       "      <td>index</td>\n",
       "      <td>ix_airports_index</td>\n",
       "      <td>airports</td>\n",
       "      <td>3</td>\n",
       "      <td>CREATE INDEX ix_airports_index ON airports ([i...</td>\n",
       "    </tr>\n",
       "    <tr>\n",
       "      <th>2</th>\n",
       "      <td>table</td>\n",
       "      <td>airlines</td>\n",
       "      <td>airlines</td>\n",
       "      <td>945</td>\n",
       "      <td>CREATE TABLE airlines (\\n[index] INTEGER,\\n  [...</td>\n",
       "    </tr>\n",
       "    <tr>\n",
       "      <th>3</th>\n",
       "      <td>index</td>\n",
       "      <td>ix_airlines_index</td>\n",
       "      <td>airlines</td>\n",
       "      <td>946</td>\n",
       "      <td>CREATE INDEX ix_airlines_index ON airlines ([i...</td>\n",
       "    </tr>\n",
       "    <tr>\n",
       "      <th>4</th>\n",
       "      <td>table</td>\n",
       "      <td>routes</td>\n",
       "      <td>routes</td>\n",
       "      <td>1393</td>\n",
       "      <td>CREATE TABLE routes (\\n[index] INTEGER,\\n  [ai...</td>\n",
       "    </tr>\n",
       "    <tr>\n",
       "      <th>5</th>\n",
       "      <td>index</td>\n",
       "      <td>ix_routes_index</td>\n",
       "      <td>routes</td>\n",
       "      <td>1394</td>\n",
       "      <td>CREATE INDEX ix_routes_index ON routes ([index])</td>\n",
       "    </tr>\n",
       "  </tbody>\n",
       "</table>\n",
       "</div>"
      ],
      "text/plain": [
       "    type               name  tbl_name  rootpage  \\\n",
       "0  table           airports  airports         2   \n",
       "1  index  ix_airports_index  airports         3   \n",
       "2  table           airlines  airlines       945   \n",
       "3  index  ix_airlines_index  airlines       946   \n",
       "4  table             routes    routes      1393   \n",
       "5  index    ix_routes_index    routes      1394   \n",
       "\n",
       "                                                 sql  \n",
       "0  CREATE TABLE airports (\\n[index] INTEGER,\\n  [...  \n",
       "1  CREATE INDEX ix_airports_index ON airports ([i...  \n",
       "2  CREATE TABLE airlines (\\n[index] INTEGER,\\n  [...  \n",
       "3  CREATE INDEX ix_airlines_index ON airlines ([i...  \n",
       "4  CREATE TABLE routes (\\n[index] INTEGER,\\n  [ai...  \n",
       "5   CREATE INDEX ix_routes_index ON routes ([index])  "
      ]
     },
     "execution_count": 10,
     "metadata": {},
     "output_type": "execute_result"
    }
   ],
   "source": [
    "schema_df = pd.read_sql(\"\"\"\n",
    "\n",
    "SELECT *\n",
    "FROM sqlite_master\n",
    "\n",
    "\"\"\", con)\n",
    "\n",
    "schema_df"
   ]
  },
  {
   "cell_type": "markdown",
   "metadata": {
    "hidden": true
   },
   "source": [
    "It looks like there are three tables in our database: airports, airlines, and routes. Each table also has an **index**, which is used to optimize queries for large databases. \n",
    "\n",
    "The column names and datatypes for each table are defined in the schema in the `sql` column."
   ]
  },
  {
   "cell_type": "code",
   "execution_count": 11,
   "metadata": {
    "hidden": true
   },
   "outputs": [
    {
     "name": "stdout",
     "output_type": "stream",
     "text": [
      "CREATE TABLE airports (\n",
      "[index] INTEGER,\n",
      "  [id] TEXT,\n",
      "  [name] TEXT,\n",
      "  [city] TEXT,\n",
      "  [country] TEXT,\n",
      "  [code] TEXT,\n",
      "  [icao] TEXT,\n",
      "  [latitude] TEXT,\n",
      "  [longitude] TEXT,\n",
      "  [altitude] TEXT,\n",
      "  [offset] TEXT,\n",
      "  [dst] TEXT,\n",
      "  [timezone] TEXT\n",
      ")\n"
     ]
    }
   ],
   "source": [
    "# Airports table info\n",
    "\n",
    "print(schema_df['sql'].iloc[0])"
   ]
  },
  {
   "cell_type": "markdown",
   "metadata": {
    "heading_collapsed": true,
    "hidden": true,
    "slideshow": {
     "slide_type": "slide"
    }
   },
   "source": [
    "## Exercise"
   ]
  },
  {
   "cell_type": "markdown",
   "metadata": {
    "hidden": true,
    "slideshow": {
     "slide_type": "slide"
    }
   },
   "source": [
    "Get the columns and datatypes for the airlines table. You can do this with either `pd.read_sql()` or the schema table."
   ]
  },
  {
   "cell_type": "code",
   "execution_count": 16,
   "metadata": {},
   "outputs": [
    {
     "name": "stdout",
     "output_type": "stream",
     "text": [
      "<class 'pandas.core.frame.DataFrame'>\n",
      "RangeIndex: 6 entries, 0 to 5\n",
      "Data columns (total 5 columns):\n",
      " #   Column    Non-Null Count  Dtype \n",
      "---  ------    --------------  ----- \n",
      " 0   type      6 non-null      object\n",
      " 1   name      6 non-null      object\n",
      " 2   tbl_name  6 non-null      object\n",
      " 3   rootpage  6 non-null      int64 \n",
      " 4   sql       6 non-null      object\n",
      "dtypes: int64(1), object(4)\n",
      "memory usage: 368.0+ bytes\n"
     ]
    }
   ],
   "source": [
    "#print(schema_df['sql'].iloc[2])\n",
    "\n",
    "pd.read_sql(\"\"\"\n",
    "\n",
    "SELECT * \n",
    "FROM sqlite_master\n",
    "\n",
    "\"\"\",con).info()"
   ]
  },
  {
   "cell_type": "markdown",
   "metadata": {
    "hidden": true,
    "slideshow": {
     "slide_type": "slide"
    }
   },
   "source": [
    "<details>\n",
    "    <summary><b><u>Click Here for Answer Code</u></b></summary>\n",
    "\n",
    "```python \n",
    "pd.read_sql(\"\"\"\n",
    "\n",
    "SELECT *       \n",
    "FROM airlines\n",
    "\n",
    "\"\"\", con).info()\n",
    "```\n",
    "\n",
    "OR\n",
    "\n",
    "```python \n",
    "print(schema_df['sql'].iloc[2])\n",
    "```\n",
    "</details>"
   ]
  },
  {
   "cell_type": "code",
   "execution_count": 18,
   "metadata": {
    "hidden": true,
    "scrolled": true
   },
   "outputs": [
    {
     "name": "stdout",
     "output_type": "stream",
     "text": [
      "<class 'pandas.core.frame.DataFrame'>\n",
      "RangeIndex: 8107 entries, 0 to 8106\n",
      "Data columns (total 13 columns):\n",
      " #   Column     Non-Null Count  Dtype \n",
      "---  ------     --------------  ----- \n",
      " 0   index      8107 non-null   int64 \n",
      " 1   id         8107 non-null   object\n",
      " 2   name       8107 non-null   object\n",
      " 3   city       8107 non-null   object\n",
      " 4   country    8107 non-null   object\n",
      " 5   code       5880 non-null   object\n",
      " 6   icao       8043 non-null   object\n",
      " 7   latitude   8107 non-null   object\n",
      " 8   longitude  8107 non-null   object\n",
      " 9   altitude   8107 non-null   object\n",
      " 10  offset     8107 non-null   object\n",
      " 11  dst        8107 non-null   object\n",
      " 12  timezone   8107 non-null   object\n",
      "dtypes: int64(1), object(12)\n",
      "memory usage: 823.5+ KB\n"
     ]
    }
   ],
   "source": [
    "# Your work here\n",
    "#print(schema_df['sql'].iloc[2])\n",
    "pd.read_sql(\"\"\"\n",
    "\n",
    "SELECT *\n",
    "FROM airports\n",
    "\n",
    "\"\"\",con).info()"
   ]
  },
  {
   "cell_type": "markdown",
   "metadata": {
    "heading_collapsed": true,
    "slideshow": {
     "slide_type": "slide"
    }
   },
   "source": [
    "# Writing SQL Queries "
   ]
  },
  {
   "cell_type": "markdown",
   "metadata": {
    "hidden": true,
    "slideshow": {
     "slide_type": "slide"
    }
   },
   "source": [
    "In this section we will build SQL queries using the SELECT statement, showing off a bunch of different clauses and options available. "
   ]
  },
  {
   "cell_type": "markdown",
   "metadata": {
    "heading_collapsed": true,
    "hidden": true
   },
   "source": [
    "## SELECT Statement"
   ]
  },
  {
   "cell_type": "markdown",
   "metadata": {
    "hidden": true
   },
   "source": [
    "SELECT statements can have multiple **clauses**, which must be included in a specific order (more info [here](https://sqlite.org/lang_select.html)). Only SELECT and FROM are required. "
   ]
  },
  {
   "cell_type": "markdown",
   "metadata": {
    "hidden": true
   },
   "source": [
    "Let's explore the following clauses and structure:\n",
    "\n",
    "```sql\n",
    "SELECT columns\n",
    "FROM table\n",
    "WHERE condition\n",
    "ORDER BY columns\n",
    "LIMIT number\n",
    "```"
   ]
  },
  {
   "cell_type": "markdown",
   "metadata": {
    "heading_collapsed": true,
    "hidden": true,
    "slideshow": {
     "slide_type": "fragment"
    }
   },
   "source": [
    "## SELECT: Picking Columns"
   ]
  },
  {
   "cell_type": "markdown",
   "metadata": {
    "hidden": true,
    "slideshow": {
     "slide_type": "fragment"
    }
   },
   "source": [
    "Add the names of the columns that you want after the word `SELECT`, or use `*` to get all columns."
   ]
  },
  {
   "cell_type": "code",
   "execution_count": 19,
   "metadata": {
    "hidden": true
   },
   "outputs": [
    {
     "data": {
      "text/html": [
       "<div>\n",
       "<style scoped>\n",
       "    .dataframe tbody tr th:only-of-type {\n",
       "        vertical-align: middle;\n",
       "    }\n",
       "\n",
       "    .dataframe tbody tr th {\n",
       "        vertical-align: top;\n",
       "    }\n",
       "\n",
       "    .dataframe thead th {\n",
       "        text-align: right;\n",
       "    }\n",
       "</style>\n",
       "<table border=\"1\" class=\"dataframe\">\n",
       "  <thead>\n",
       "    <tr style=\"text-align: right;\">\n",
       "      <th></th>\n",
       "      <th>city</th>\n",
       "      <th>country</th>\n",
       "    </tr>\n",
       "  </thead>\n",
       "  <tbody>\n",
       "    <tr>\n",
       "      <th>0</th>\n",
       "      <td>Goroka</td>\n",
       "      <td>Papua New Guinea</td>\n",
       "    </tr>\n",
       "    <tr>\n",
       "      <th>1</th>\n",
       "      <td>Madang</td>\n",
       "      <td>Papua New Guinea</td>\n",
       "    </tr>\n",
       "    <tr>\n",
       "      <th>2</th>\n",
       "      <td>Mount Hagen</td>\n",
       "      <td>Papua New Guinea</td>\n",
       "    </tr>\n",
       "    <tr>\n",
       "      <th>3</th>\n",
       "      <td>Nadzab</td>\n",
       "      <td>Papua New Guinea</td>\n",
       "    </tr>\n",
       "    <tr>\n",
       "      <th>4</th>\n",
       "      <td>Port Moresby</td>\n",
       "      <td>Papua New Guinea</td>\n",
       "    </tr>\n",
       "    <tr>\n",
       "      <th>...</th>\n",
       "      <td>...</td>\n",
       "      <td>...</td>\n",
       "    </tr>\n",
       "    <tr>\n",
       "      <th>8102</th>\n",
       "      <td>Mansons Landing</td>\n",
       "      <td>Canada</td>\n",
       "    </tr>\n",
       "    <tr>\n",
       "      <th>8103</th>\n",
       "      <td>Port McNeill</td>\n",
       "      <td>Canada</td>\n",
       "    </tr>\n",
       "    <tr>\n",
       "      <th>8104</th>\n",
       "      <td>Sullivan Bay</td>\n",
       "      <td>Canada</td>\n",
       "    </tr>\n",
       "    <tr>\n",
       "      <th>8105</th>\n",
       "      <td>Deer Harbor</td>\n",
       "      <td>United States</td>\n",
       "    </tr>\n",
       "    <tr>\n",
       "      <th>8106</th>\n",
       "      <td>San Diego</td>\n",
       "      <td>United States</td>\n",
       "    </tr>\n",
       "  </tbody>\n",
       "</table>\n",
       "<p>8107 rows × 2 columns</p>\n",
       "</div>"
      ],
      "text/plain": [
       "                 city           country\n",
       "0              Goroka  Papua New Guinea\n",
       "1              Madang  Papua New Guinea\n",
       "2         Mount Hagen  Papua New Guinea\n",
       "3              Nadzab  Papua New Guinea\n",
       "4        Port Moresby  Papua New Guinea\n",
       "...               ...               ...\n",
       "8102  Mansons Landing            Canada\n",
       "8103     Port McNeill            Canada\n",
       "8104     Sullivan Bay            Canada\n",
       "8105      Deer Harbor     United States\n",
       "8106        San Diego     United States\n",
       "\n",
       "[8107 rows x 2 columns]"
      ]
     },
     "execution_count": 19,
     "metadata": {},
     "output_type": "execute_result"
    }
   ],
   "source": [
    "pd.read_sql(\"\"\"\n",
    "\n",
    "SELECT city, country\n",
    "FROM airports\n",
    "\n",
    "\"\"\", con)"
   ]
  },
  {
   "cell_type": "markdown",
   "metadata": {
    "heading_collapsed": true,
    "hidden": true,
    "slideshow": {
     "slide_type": "fragment"
    }
   },
   "source": [
    "### `DISTINCT`"
   ]
  },
  {
   "cell_type": "markdown",
   "metadata": {
    "hidden": true,
    "slideshow": {
     "slide_type": "fragment"
    }
   },
   "source": [
    "Use `DISTINCT` to drop duplicates."
   ]
  },
  {
   "cell_type": "code",
   "execution_count": 27,
   "metadata": {
    "hidden": true
   },
   "outputs": [
    {
     "data": {
      "text/html": [
       "<div>\n",
       "<style scoped>\n",
       "    .dataframe tbody tr th:only-of-type {\n",
       "        vertical-align: middle;\n",
       "    }\n",
       "\n",
       "    .dataframe tbody tr th {\n",
       "        vertical-align: top;\n",
       "    }\n",
       "\n",
       "    .dataframe thead th {\n",
       "        text-align: right;\n",
       "    }\n",
       "</style>\n",
       "<table border=\"1\" class=\"dataframe\">\n",
       "  <thead>\n",
       "    <tr style=\"text-align: right;\">\n",
       "      <th></th>\n",
       "      <th>country</th>\n",
       "    </tr>\n",
       "  </thead>\n",
       "  <tbody>\n",
       "    <tr>\n",
       "      <th>0</th>\n",
       "      <td>Papua New Guinea</td>\n",
       "    </tr>\n",
       "    <tr>\n",
       "      <th>1</th>\n",
       "      <td>Greenland</td>\n",
       "    </tr>\n",
       "    <tr>\n",
       "      <th>2</th>\n",
       "      <td>Iceland</td>\n",
       "    </tr>\n",
       "    <tr>\n",
       "      <th>3</th>\n",
       "      <td>Canada</td>\n",
       "    </tr>\n",
       "    <tr>\n",
       "      <th>4</th>\n",
       "      <td>Algeria</td>\n",
       "    </tr>\n",
       "    <tr>\n",
       "      <th>...</th>\n",
       "      <td>...</td>\n",
       "    </tr>\n",
       "    <tr>\n",
       "      <th>235</th>\n",
       "      <td>South Georgia and the Islands</td>\n",
       "    </tr>\n",
       "    <tr>\n",
       "      <th>236</th>\n",
       "      <td>Myanmar</td>\n",
       "    </tr>\n",
       "    <tr>\n",
       "      <th>237</th>\n",
       "      <td>Svalbard</td>\n",
       "    </tr>\n",
       "    <tr>\n",
       "      <th>238</th>\n",
       "      <td>North Korea</td>\n",
       "    </tr>\n",
       "    <tr>\n",
       "      <th>239</th>\n",
       "      <td>Wake Island</td>\n",
       "    </tr>\n",
       "  </tbody>\n",
       "</table>\n",
       "<p>240 rows × 1 columns</p>\n",
       "</div>"
      ],
      "text/plain": [
       "                           country\n",
       "0                 Papua New Guinea\n",
       "1                        Greenland\n",
       "2                          Iceland\n",
       "3                           Canada\n",
       "4                          Algeria\n",
       "..                             ...\n",
       "235  South Georgia and the Islands\n",
       "236                        Myanmar\n",
       "237                       Svalbard\n",
       "238                    North Korea\n",
       "239                    Wake Island\n",
       "\n",
       "[240 rows x 1 columns]"
      ]
     },
     "execution_count": 27,
     "metadata": {},
     "output_type": "execute_result"
    }
   ],
   "source": [
    "pd.read_sql(\"\"\"\n",
    "\n",
    "SELECT DISTINCT country\n",
    "FROM airports\n",
    "\n",
    "\"\"\", con)"
   ]
  },
  {
   "cell_type": "markdown",
   "metadata": {
    "heading_collapsed": true,
    "hidden": true
   },
   "source": [
    "### `AS`"
   ]
  },
  {
   "cell_type": "markdown",
   "metadata": {
    "hidden": true
   },
   "source": [
    "Use `AS` to rename columns. This is also known as 'aliasing' just as we alias library names in Python."
   ]
  },
  {
   "cell_type": "code",
   "execution_count": 21,
   "metadata": {
    "hidden": true
   },
   "outputs": [
    {
     "data": {
      "text/html": [
       "<div>\n",
       "<style scoped>\n",
       "    .dataframe tbody tr th:only-of-type {\n",
       "        vertical-align: middle;\n",
       "    }\n",
       "\n",
       "    .dataframe tbody tr th {\n",
       "        vertical-align: top;\n",
       "    }\n",
       "\n",
       "    .dataframe thead th {\n",
       "        text-align: right;\n",
       "    }\n",
       "</style>\n",
       "<table border=\"1\" class=\"dataframe\">\n",
       "  <thead>\n",
       "    <tr style=\"text-align: right;\">\n",
       "      <th></th>\n",
       "      <th>Airport City</th>\n",
       "      <th>Airport Country</th>\n",
       "    </tr>\n",
       "  </thead>\n",
       "  <tbody>\n",
       "    <tr>\n",
       "      <th>0</th>\n",
       "      <td>Goroka</td>\n",
       "      <td>Papua New Guinea</td>\n",
       "    </tr>\n",
       "    <tr>\n",
       "      <th>1</th>\n",
       "      <td>Madang</td>\n",
       "      <td>Papua New Guinea</td>\n",
       "    </tr>\n",
       "    <tr>\n",
       "      <th>2</th>\n",
       "      <td>Mount Hagen</td>\n",
       "      <td>Papua New Guinea</td>\n",
       "    </tr>\n",
       "    <tr>\n",
       "      <th>3</th>\n",
       "      <td>Nadzab</td>\n",
       "      <td>Papua New Guinea</td>\n",
       "    </tr>\n",
       "    <tr>\n",
       "      <th>4</th>\n",
       "      <td>Port Moresby</td>\n",
       "      <td>Papua New Guinea</td>\n",
       "    </tr>\n",
       "    <tr>\n",
       "      <th>...</th>\n",
       "      <td>...</td>\n",
       "      <td>...</td>\n",
       "    </tr>\n",
       "    <tr>\n",
       "      <th>8102</th>\n",
       "      <td>Mansons Landing</td>\n",
       "      <td>Canada</td>\n",
       "    </tr>\n",
       "    <tr>\n",
       "      <th>8103</th>\n",
       "      <td>Port McNeill</td>\n",
       "      <td>Canada</td>\n",
       "    </tr>\n",
       "    <tr>\n",
       "      <th>8104</th>\n",
       "      <td>Sullivan Bay</td>\n",
       "      <td>Canada</td>\n",
       "    </tr>\n",
       "    <tr>\n",
       "      <th>8105</th>\n",
       "      <td>Deer Harbor</td>\n",
       "      <td>United States</td>\n",
       "    </tr>\n",
       "    <tr>\n",
       "      <th>8106</th>\n",
       "      <td>San Diego</td>\n",
       "      <td>United States</td>\n",
       "    </tr>\n",
       "  </tbody>\n",
       "</table>\n",
       "<p>8107 rows × 2 columns</p>\n",
       "</div>"
      ],
      "text/plain": [
       "         Airport City   Airport Country\n",
       "0              Goroka  Papua New Guinea\n",
       "1              Madang  Papua New Guinea\n",
       "2         Mount Hagen  Papua New Guinea\n",
       "3              Nadzab  Papua New Guinea\n",
       "4        Port Moresby  Papua New Guinea\n",
       "...               ...               ...\n",
       "8102  Mansons Landing            Canada\n",
       "8103     Port McNeill            Canada\n",
       "8104     Sullivan Bay            Canada\n",
       "8105      Deer Harbor     United States\n",
       "8106        San Diego     United States\n",
       "\n",
       "[8107 rows x 2 columns]"
      ]
     },
     "execution_count": 21,
     "metadata": {},
     "output_type": "execute_result"
    }
   ],
   "source": [
    "pd.read_sql(\"\"\"\n",
    "\n",
    "SELECT city AS \"Airport City\", \n",
    "       country AS \"Airport Country\"\n",
    "FROM airports\n",
    "\n",
    "\"\"\", con)"
   ]
  },
  {
   "cell_type": "markdown",
   "metadata": {
    "heading_collapsed": true,
    "hidden": true
   },
   "source": [
    "### Functions"
   ]
  },
  {
   "cell_type": "markdown",
   "metadata": {
    "hidden": true
   },
   "source": [
    "There are dozens of functions that you can use in SELECT statements to modify results - you can see some examples [here](https://sqlite.org/lang_corefunc.html)."
   ]
  },
  {
   "cell_type": "code",
   "execution_count": 28,
   "metadata": {
    "hidden": true
   },
   "outputs": [
    {
     "data": {
      "text/html": [
       "<div>\n",
       "<style scoped>\n",
       "    .dataframe tbody tr th:only-of-type {\n",
       "        vertical-align: middle;\n",
       "    }\n",
       "\n",
       "    .dataframe tbody tr th {\n",
       "        vertical-align: top;\n",
       "    }\n",
       "\n",
       "    .dataframe thead th {\n",
       "        text-align: right;\n",
       "    }\n",
       "</style>\n",
       "<table border=\"1\" class=\"dataframe\">\n",
       "  <thead>\n",
       "    <tr style=\"text-align: right;\">\n",
       "      <th></th>\n",
       "      <th>AIRPORT NAMES IN CAPS</th>\n",
       "      <th>Airport Name Length</th>\n",
       "    </tr>\n",
       "  </thead>\n",
       "  <tbody>\n",
       "    <tr>\n",
       "      <th>0</th>\n",
       "      <td>GOROKA</td>\n",
       "      <td>6</td>\n",
       "    </tr>\n",
       "    <tr>\n",
       "      <th>1</th>\n",
       "      <td>MADANG</td>\n",
       "      <td>6</td>\n",
       "    </tr>\n",
       "    <tr>\n",
       "      <th>2</th>\n",
       "      <td>MOUNT HAGEN</td>\n",
       "      <td>11</td>\n",
       "    </tr>\n",
       "    <tr>\n",
       "      <th>3</th>\n",
       "      <td>NADZAB</td>\n",
       "      <td>6</td>\n",
       "    </tr>\n",
       "    <tr>\n",
       "      <th>4</th>\n",
       "      <td>PORT MORESBY JACKSONS INTL</td>\n",
       "      <td>26</td>\n",
       "    </tr>\n",
       "    <tr>\n",
       "      <th>...</th>\n",
       "      <td>...</td>\n",
       "      <td>...</td>\n",
       "    </tr>\n",
       "    <tr>\n",
       "      <th>8102</th>\n",
       "      <td>MANSONS LANDING WATER AERODROME</td>\n",
       "      <td>31</td>\n",
       "    </tr>\n",
       "    <tr>\n",
       "      <th>8103</th>\n",
       "      <td>PORT MCNEILL AIRPORT</td>\n",
       "      <td>20</td>\n",
       "    </tr>\n",
       "    <tr>\n",
       "      <th>8104</th>\n",
       "      <td>SULLIVAN BAY WATER AERODROME</td>\n",
       "      <td>28</td>\n",
       "    </tr>\n",
       "    <tr>\n",
       "      <th>8105</th>\n",
       "      <td>DEER HARBOR SEAPLANE</td>\n",
       "      <td>20</td>\n",
       "    </tr>\n",
       "    <tr>\n",
       "      <th>8106</th>\n",
       "      <td>SAN DIEGO OLD TOWN TRANSIT CENTER</td>\n",
       "      <td>33</td>\n",
       "    </tr>\n",
       "  </tbody>\n",
       "</table>\n",
       "<p>8107 rows × 2 columns</p>\n",
       "</div>"
      ],
      "text/plain": [
       "                  AIRPORT NAMES IN CAPS  Airport Name Length\n",
       "0                                GOROKA                    6\n",
       "1                                MADANG                    6\n",
       "2                           MOUNT HAGEN                   11\n",
       "3                                NADZAB                    6\n",
       "4            PORT MORESBY JACKSONS INTL                   26\n",
       "...                                 ...                  ...\n",
       "8102    MANSONS LANDING WATER AERODROME                   31\n",
       "8103               PORT MCNEILL AIRPORT                   20\n",
       "8104       SULLIVAN BAY WATER AERODROME                   28\n",
       "8105               DEER HARBOR SEAPLANE                   20\n",
       "8106  SAN DIEGO OLD TOWN TRANSIT CENTER                   33\n",
       "\n",
       "[8107 rows x 2 columns]"
      ]
     },
     "execution_count": 28,
     "metadata": {},
     "output_type": "execute_result"
    }
   ],
   "source": [
    "pd.read_sql(\"\"\"\n",
    "\n",
    "SELECT UPPER(name) AS \"AIRPORT NAMES IN CAPS\",\n",
    "       LENGTH(name) AS \"Airport Name Length\"\n",
    "       \n",
    "FROM airports\n",
    "\n",
    "\"\"\", con)"
   ]
  },
  {
   "cell_type": "markdown",
   "metadata": {
    "heading_collapsed": true,
    "hidden": true
   },
   "source": [
    "#### Aggregation"
   ]
  },
  {
   "cell_type": "markdown",
   "metadata": {
    "hidden": true
   },
   "source": [
    "Some functions will aggregate your data and return a table with one row."
   ]
  },
  {
   "cell_type": "code",
   "execution_count": 29,
   "metadata": {
    "hidden": true
   },
   "outputs": [
    {
     "data": {
      "text/html": [
       "<div>\n",
       "<style scoped>\n",
       "    .dataframe tbody tr th:only-of-type {\n",
       "        vertical-align: middle;\n",
       "    }\n",
       "\n",
       "    .dataframe tbody tr th {\n",
       "        vertical-align: top;\n",
       "    }\n",
       "\n",
       "    .dataframe thead th {\n",
       "        text-align: right;\n",
       "    }\n",
       "</style>\n",
       "<table border=\"1\" class=\"dataframe\">\n",
       "  <thead>\n",
       "    <tr style=\"text-align: right;\">\n",
       "      <th></th>\n",
       "      <th>Number of Airports</th>\n",
       "    </tr>\n",
       "  </thead>\n",
       "  <tbody>\n",
       "    <tr>\n",
       "      <th>0</th>\n",
       "      <td>8107</td>\n",
       "    </tr>\n",
       "  </tbody>\n",
       "</table>\n",
       "</div>"
      ],
      "text/plain": [
       "   Number of Airports\n",
       "0                8107"
      ]
     },
     "execution_count": 29,
     "metadata": {},
     "output_type": "execute_result"
    }
   ],
   "source": [
    "pd.read_sql(\"\"\"\n",
    "\n",
    "SELECT COUNT() AS \"Number of Airports\"\n",
    "FROM airports\n",
    "\n",
    "\"\"\", con)"
   ]
  },
  {
   "cell_type": "markdown",
   "metadata": {
    "heading_collapsed": true,
    "hidden": true
   },
   "source": [
    "#### Datatype Compatibility"
   ]
  },
  {
   "cell_type": "markdown",
   "metadata": {
    "hidden": true
   },
   "source": [
    "Make sure that your column is the right datatype for the function to avoid unexpected results."
   ]
  },
  {
   "cell_type": "code",
   "execution_count": 33,
   "metadata": {
    "hidden": true
   },
   "outputs": [
    {
     "data": {
      "text/html": [
       "<div>\n",
       "<style scoped>\n",
       "    .dataframe tbody tr th:only-of-type {\n",
       "        vertical-align: middle;\n",
       "    }\n",
       "\n",
       "    .dataframe tbody tr th {\n",
       "        vertical-align: top;\n",
       "    }\n",
       "\n",
       "    .dataframe thead th {\n",
       "        text-align: right;\n",
       "    }\n",
       "</style>\n",
       "<table border=\"1\" class=\"dataframe\">\n",
       "  <thead>\n",
       "    <tr style=\"text-align: right;\">\n",
       "      <th></th>\n",
       "      <th>Airport Name</th>\n",
       "      <th>Altitude (ft)</th>\n",
       "    </tr>\n",
       "  </thead>\n",
       "  <tbody>\n",
       "    <tr>\n",
       "      <th>0</th>\n",
       "      <td>Dauphin Barker</td>\n",
       "      <td>999</td>\n",
       "    </tr>\n",
       "  </tbody>\n",
       "</table>\n",
       "</div>"
      ],
      "text/plain": [
       "     Airport Name Altitude (ft)\n",
       "0  Dauphin Barker           999"
      ]
     },
     "execution_count": 33,
     "metadata": {},
     "output_type": "execute_result"
    }
   ],
   "source": [
    "pd.read_sql(\"\"\"\n",
    "\n",
    "SELECT name AS \"Airport Name\", \n",
    "       MAX(altitude) AS \"Altitude (ft)\"\n",
    "       \n",
    "FROM airports\n",
    "\n",
    "\"\"\", con)"
   ]
  },
  {
   "cell_type": "code",
   "execution_count": 32,
   "metadata": {},
   "outputs": [
    {
     "name": "stdout",
     "output_type": "stream",
     "text": [
      "<class 'pandas.core.frame.DataFrame'>\n",
      "RangeIndex: 8107 entries, 0 to 8106\n",
      "Data columns (total 13 columns):\n",
      " #   Column     Non-Null Count  Dtype \n",
      "---  ------     --------------  ----- \n",
      " 0   index      8107 non-null   int64 \n",
      " 1   id         8107 non-null   object\n",
      " 2   name       8107 non-null   object\n",
      " 3   city       8107 non-null   object\n",
      " 4   country    8107 non-null   object\n",
      " 5   code       5880 non-null   object\n",
      " 6   icao       8043 non-null   object\n",
      " 7   latitude   8107 non-null   object\n",
      " 8   longitude  8107 non-null   object\n",
      " 9   altitude   8107 non-null   object\n",
      " 10  offset     8107 non-null   object\n",
      " 11  dst        8107 non-null   object\n",
      " 12  timezone   8107 non-null   object\n",
      "dtypes: int64(1), object(12)\n",
      "memory usage: 823.5+ KB\n"
     ]
    }
   ],
   "source": [
    "pd.read_sql(\"\"\"\n",
    "\n",
    "SELECT *\n",
    "\n",
    "FROM airports\n",
    "\n",
    "\"\"\", con).info()"
   ]
  },
  {
   "cell_type": "markdown",
   "metadata": {
    "heading_collapsed": true,
    "hidden": true
   },
   "source": [
    "#### `CAST()`"
   ]
  },
  {
   "cell_type": "markdown",
   "metadata": {
    "hidden": true
   },
   "source": [
    "You could fix this using the `CAST()` function."
   ]
  },
  {
   "cell_type": "code",
   "execution_count": 31,
   "metadata": {
    "hidden": true
   },
   "outputs": [
    {
     "data": {
      "text/html": [
       "<div>\n",
       "<style scoped>\n",
       "    .dataframe tbody tr th:only-of-type {\n",
       "        vertical-align: middle;\n",
       "    }\n",
       "\n",
       "    .dataframe tbody tr th {\n",
       "        vertical-align: top;\n",
       "    }\n",
       "\n",
       "    .dataframe thead th {\n",
       "        text-align: right;\n",
       "    }\n",
       "</style>\n",
       "<table border=\"1\" class=\"dataframe\">\n",
       "  <thead>\n",
       "    <tr style=\"text-align: right;\">\n",
       "      <th></th>\n",
       "      <th>Airport Name</th>\n",
       "      <th>Altitude (ft)</th>\n",
       "    </tr>\n",
       "  </thead>\n",
       "  <tbody>\n",
       "    <tr>\n",
       "      <th>0</th>\n",
       "      <td>Yading Daocheng</td>\n",
       "      <td>14472</td>\n",
       "    </tr>\n",
       "  </tbody>\n",
       "</table>\n",
       "</div>"
      ],
      "text/plain": [
       "      Airport Name  Altitude (ft)\n",
       "0  Yading Daocheng          14472"
      ]
     },
     "execution_count": 31,
     "metadata": {},
     "output_type": "execute_result"
    }
   ],
   "source": [
    "pd.read_sql(\"\"\"\n",
    "\n",
    "SELECT name AS \"Airport Name\", \n",
    "       MAX(CAST(altitude as int)) AS \"Altitude (ft)\"\n",
    "       \n",
    "FROM airports\n",
    "\n",
    "\"\"\", con)"
   ]
  },
  {
   "cell_type": "markdown",
   "metadata": {
    "heading_collapsed": true,
    "hidden": true
   },
   "source": [
    "### Exercise"
   ]
  },
  {
   "cell_type": "markdown",
   "metadata": {
    "hidden": true
   },
   "source": [
    "Which country has the northern-most airport? \n",
    "\n",
    "> _Hint: Look for the highest latitude_"
   ]
  },
  {
   "cell_type": "markdown",
   "metadata": {
    "hidden": true
   },
   "source": [
    "<details>\n",
    "    <summary><b><u>Click Here for Answer Code</u></b></summary>\n",
    "\n",
    "```python \n",
    "pd.read_sql(\"\"\"\n",
    "\n",
    "SELECT country AS \"Country\", \n",
    "       MAX(CAST(latitude as int)) AS \"Latitude\"\n",
    "\n",
    "FROM airports\n",
    "\n",
    "\"\"\", con)\n",
    "```\n",
    "</details>"
   ]
  },
  {
   "cell_type": "code",
   "execution_count": 34,
   "metadata": {
    "hidden": true
   },
   "outputs": [
    {
     "data": {
      "text/html": [
       "<div>\n",
       "<style scoped>\n",
       "    .dataframe tbody tr th:only-of-type {\n",
       "        vertical-align: middle;\n",
       "    }\n",
       "\n",
       "    .dataframe tbody tr th {\n",
       "        vertical-align: top;\n",
       "    }\n",
       "\n",
       "    .dataframe thead th {\n",
       "        text-align: right;\n",
       "    }\n",
       "</style>\n",
       "<table border=\"1\" class=\"dataframe\">\n",
       "  <thead>\n",
       "    <tr style=\"text-align: right;\">\n",
       "      <th></th>\n",
       "      <th>Country</th>\n",
       "      <th>Latitude</th>\n",
       "    </tr>\n",
       "  </thead>\n",
       "  <tbody>\n",
       "    <tr>\n",
       "      <th>0</th>\n",
       "      <td>Canada</td>\n",
       "      <td>82</td>\n",
       "    </tr>\n",
       "  </tbody>\n",
       "</table>\n",
       "</div>"
      ],
      "text/plain": [
       "  Country  Latitude\n",
       "0  Canada        82"
      ]
     },
     "execution_count": 34,
     "metadata": {},
     "output_type": "execute_result"
    }
   ],
   "source": [
    "# Your work here\n",
    "pd.read_sql(\"\"\"\n",
    "\n",
    "SELECT country AS \"Country\", \n",
    "       MAX(CAST(latitude as int)) AS \"Latitude\"\n",
    "\n",
    "FROM airports\n",
    "\n",
    "\"\"\", con)"
   ]
  },
  {
   "cell_type": "markdown",
   "metadata": {
    "heading_collapsed": true,
    "hidden": true
   },
   "source": [
    "## FROM: Picking Tables"
   ]
  },
  {
   "cell_type": "markdown",
   "metadata": {
    "hidden": true
   },
   "source": [
    "The `FROM` clause specifies the tables you get data from. You can use aliases here with `AS` - this will be useful for more complex queries involving multiple tables."
   ]
  },
  {
   "cell_type": "code",
   "execution_count": 37,
   "metadata": {},
   "outputs": [
    {
     "name": "stdout",
     "output_type": "stream",
     "text": [
      "<class 'pandas.core.frame.DataFrame'>\n",
      "RangeIndex: 6048 entries, 0 to 6047\n",
      "Data columns (total 9 columns):\n",
      " #   Column    Non-Null Count  Dtype \n",
      "---  ------    --------------  ----- \n",
      " 0   index     6048 non-null   int64 \n",
      " 1   id        6048 non-null   object\n",
      " 2   name      6048 non-null   object\n",
      " 3   alias     5615 non-null   object\n",
      " 4   iata      1461 non-null   object\n",
      " 5   icao      5961 non-null   object\n",
      " 6   callsign  5305 non-null   object\n",
      " 7   country   6033 non-null   object\n",
      " 8   active    6048 non-null   object\n",
      "dtypes: int64(1), object(8)\n",
      "memory usage: 425.4+ KB\n"
     ]
    }
   ],
   "source": [
    "pd.read_sql(\"\"\"\n",
    "SELECT * \n",
    "FROM airlines\n",
    "\"\"\",con).info()"
   ]
  },
  {
   "cell_type": "code",
   "execution_count": 38,
   "metadata": {
    "hidden": true
   },
   "outputs": [
    {
     "data": {
      "text/html": [
       "<div>\n",
       "<style scoped>\n",
       "    .dataframe tbody tr th:only-of-type {\n",
       "        vertical-align: middle;\n",
       "    }\n",
       "\n",
       "    .dataframe tbody tr th {\n",
       "        vertical-align: top;\n",
       "    }\n",
       "\n",
       "    .dataframe thead th {\n",
       "        text-align: right;\n",
       "    }\n",
       "</style>\n",
       "<table border=\"1\" class=\"dataframe\">\n",
       "  <thead>\n",
       "    <tr style=\"text-align: right;\">\n",
       "      <th></th>\n",
       "      <th>Airport Name</th>\n",
       "      <th>Altitude (ft)</th>\n",
       "      <th>Airline Name</th>\n",
       "    </tr>\n",
       "  </thead>\n",
       "  <tbody>\n",
       "    <tr>\n",
       "      <th>0</th>\n",
       "      <td>Yading Daocheng</td>\n",
       "      <td>14472</td>\n",
       "      <td>Private flight</td>\n",
       "    </tr>\n",
       "  </tbody>\n",
       "</table>\n",
       "</div>"
      ],
      "text/plain": [
       "      Airport Name  Altitude (ft)    Airline Name\n",
       "0  Yading Daocheng          14472  Private flight"
      ]
     },
     "execution_count": 38,
     "metadata": {},
     "output_type": "execute_result"
    }
   ],
   "source": [
    "pd.read_sql(\"\"\"\n",
    "\n",
    "SELECT ap.name AS \"Airport Name\", \n",
    "       MAX(CAST(ap.altitude AS int)) AS \"Altitude (ft)\",\n",
    "       ar.name AS \"Airline Name\"\n",
    "       \n",
    "FROM airports AS ap, airlines AS ar\n",
    "\n",
    "\"\"\", con)"
   ]
  },
  {
   "cell_type": "markdown",
   "metadata": {
    "heading_collapsed": true,
    "hidden": true,
    "slideshow": {
     "slide_type": "fragment"
    }
   },
   "source": [
    "## WHERE: Picking Rows"
   ]
  },
  {
   "cell_type": "markdown",
   "metadata": {
    "hidden": true,
    "slideshow": {
     "slide_type": "fragment"
    }
   },
   "source": [
    "The `WHERE` clause filters results from your query. This uses conditional logic and operators similar to Python's - you can find more [here](https://sqlite.org/lang_expr.html)."
   ]
  },
  {
   "cell_type": "code",
   "execution_count": 39,
   "metadata": {
    "hidden": true
   },
   "outputs": [
    {
     "data": {
      "text/html": [
       "<div>\n",
       "<style scoped>\n",
       "    .dataframe tbody tr th:only-of-type {\n",
       "        vertical-align: middle;\n",
       "    }\n",
       "\n",
       "    .dataframe tbody tr th {\n",
       "        vertical-align: top;\n",
       "    }\n",
       "\n",
       "    .dataframe thead th {\n",
       "        text-align: right;\n",
       "    }\n",
       "</style>\n",
       "<table border=\"1\" class=\"dataframe\">\n",
       "  <thead>\n",
       "    <tr style=\"text-align: right;\">\n",
       "      <th></th>\n",
       "      <th>Airport Name</th>\n",
       "      <th>Airport Latitude</th>\n",
       "      <th>Altitude (ft)</th>\n",
       "    </tr>\n",
       "  </thead>\n",
       "  <tbody>\n",
       "    <tr>\n",
       "      <th>0</th>\n",
       "      <td>Leh</td>\n",
       "      <td>34</td>\n",
       "      <td>10682</td>\n",
       "    </tr>\n",
       "    <tr>\n",
       "      <th>1</th>\n",
       "      <td>Hongyuan Airfield</td>\n",
       "      <td>32</td>\n",
       "      <td>11500</td>\n",
       "    </tr>\n",
       "    <tr>\n",
       "      <th>2</th>\n",
       "      <td>Lhasa-Gonggar</td>\n",
       "      <td>29</td>\n",
       "      <td>13136</td>\n",
       "    </tr>\n",
       "    <tr>\n",
       "      <th>3</th>\n",
       "      <td>Manang</td>\n",
       "      <td>28</td>\n",
       "      <td>11000</td>\n",
       "    </tr>\n",
       "    <tr>\n",
       "      <th>4</th>\n",
       "      <td>Jiuzhaigou Huanglong</td>\n",
       "      <td>32</td>\n",
       "      <td>11311</td>\n",
       "    </tr>\n",
       "    <tr>\n",
       "      <th>5</th>\n",
       "      <td>Qamdo Bangda Airport</td>\n",
       "      <td>30</td>\n",
       "      <td>14219</td>\n",
       "    </tr>\n",
       "    <tr>\n",
       "      <th>6</th>\n",
       "      <td>Maiwa</td>\n",
       "      <td>33</td>\n",
       "      <td>11500</td>\n",
       "    </tr>\n",
       "    <tr>\n",
       "      <th>7</th>\n",
       "      <td>Syangboche</td>\n",
       "      <td>27</td>\n",
       "      <td>12309</td>\n",
       "    </tr>\n",
       "    <tr>\n",
       "      <th>8</th>\n",
       "      <td>Yushu Batang</td>\n",
       "      <td>32</td>\n",
       "      <td>13000</td>\n",
       "    </tr>\n",
       "    <tr>\n",
       "      <th>9</th>\n",
       "      <td>Gunsa</td>\n",
       "      <td>32</td>\n",
       "      <td>13780</td>\n",
       "    </tr>\n",
       "    <tr>\n",
       "      <th>10</th>\n",
       "      <td>Shigatse Peace Airport</td>\n",
       "      <td>29</td>\n",
       "      <td>12408</td>\n",
       "    </tr>\n",
       "    <tr>\n",
       "      <th>11</th>\n",
       "      <td>Kangding Airport</td>\n",
       "      <td>30</td>\n",
       "      <td>14042</td>\n",
       "    </tr>\n",
       "    <tr>\n",
       "      <th>12</th>\n",
       "      <td>Yading Daocheng</td>\n",
       "      <td>29</td>\n",
       "      <td>14472</td>\n",
       "    </tr>\n",
       "    <tr>\n",
       "      <th>13</th>\n",
       "      <td>Gannan</td>\n",
       "      <td>34</td>\n",
       "      <td>10466</td>\n",
       "    </tr>\n",
       "  </tbody>\n",
       "</table>\n",
       "</div>"
      ],
      "text/plain": [
       "              Airport Name  Airport Latitude  Altitude (ft)\n",
       "0                      Leh                34          10682\n",
       "1        Hongyuan Airfield                32          11500\n",
       "2            Lhasa-Gonggar                29          13136\n",
       "3                   Manang                28          11000\n",
       "4     Jiuzhaigou Huanglong                32          11311\n",
       "5     Qamdo Bangda Airport                30          14219\n",
       "6                    Maiwa                33          11500\n",
       "7               Syangboche                27          12309\n",
       "8             Yushu Batang                32          13000\n",
       "9                    Gunsa                32          13780\n",
       "10  Shigatse Peace Airport                29          12408\n",
       "11        Kangding Airport                30          14042\n",
       "12         Yading Daocheng                29          14472\n",
       "13                  Gannan                34          10466"
      ]
     },
     "execution_count": 39,
     "metadata": {},
     "output_type": "execute_result"
    }
   ],
   "source": [
    "pd.read_sql(\"\"\"\n",
    "\n",
    "SELECT name AS \"Airport Name\", \n",
    "       CAST(latitude AS int) AS \"Airport Latitude\",\n",
    "       CAST(altitude AS int) AS \"Altitude (ft)\"\n",
    "       \n",
    "FROM airports\n",
    "\n",
    "WHERE \"Altitude (ft)\" >= 10000 AND\n",
    "      \"Airport Latitude\" BETWEEN 20 AND 50\n",
    "\n",
    "\"\"\", con)"
   ]
  },
  {
   "cell_type": "markdown",
   "metadata": {
    "heading_collapsed": true,
    "hidden": true,
    "slideshow": {
     "slide_type": "fragment"
    }
   },
   "source": [
    "### `IS`"
   ]
  },
  {
   "cell_type": "markdown",
   "metadata": {
    "hidden": true,
    "slideshow": {
     "slide_type": "fragment"
    }
   },
   "source": [
    "The `IS` operator is useful when working with `NULL` values - other operators will not work as expected.  "
   ]
  },
  {
   "cell_type": "code",
   "execution_count": 40,
   "metadata": {
    "hidden": true
   },
   "outputs": [
    {
     "data": {
      "text/html": [
       "<div>\n",
       "<style scoped>\n",
       "    .dataframe tbody tr th:only-of-type {\n",
       "        vertical-align: middle;\n",
       "    }\n",
       "\n",
       "    .dataframe tbody tr th {\n",
       "        vertical-align: top;\n",
       "    }\n",
       "\n",
       "    .dataframe thead th {\n",
       "        text-align: right;\n",
       "    }\n",
       "</style>\n",
       "<table border=\"1\" class=\"dataframe\">\n",
       "  <thead>\n",
       "    <tr style=\"text-align: right;\">\n",
       "      <th></th>\n",
       "      <th>Airport Name</th>\n",
       "      <th>Airport Code</th>\n",
       "    </tr>\n",
       "  </thead>\n",
       "  <tbody>\n",
       "    <tr>\n",
       "      <th>0</th>\n",
       "      <td>Goroka</td>\n",
       "      <td>GKA</td>\n",
       "    </tr>\n",
       "    <tr>\n",
       "      <th>1</th>\n",
       "      <td>Madang</td>\n",
       "      <td>MAG</td>\n",
       "    </tr>\n",
       "    <tr>\n",
       "      <th>2</th>\n",
       "      <td>Mount Hagen</td>\n",
       "      <td>HGU</td>\n",
       "    </tr>\n",
       "    <tr>\n",
       "      <th>3</th>\n",
       "      <td>Nadzab</td>\n",
       "      <td>LAE</td>\n",
       "    </tr>\n",
       "    <tr>\n",
       "      <th>4</th>\n",
       "      <td>Port Moresby Jacksons Intl</td>\n",
       "      <td>POM</td>\n",
       "    </tr>\n",
       "    <tr>\n",
       "      <th>...</th>\n",
       "      <td>...</td>\n",
       "      <td>...</td>\n",
       "    </tr>\n",
       "    <tr>\n",
       "      <th>5875</th>\n",
       "      <td>Mansons Landing Water Aerodrome</td>\n",
       "      <td>YMU</td>\n",
       "    </tr>\n",
       "    <tr>\n",
       "      <th>5876</th>\n",
       "      <td>Port McNeill Airport</td>\n",
       "      <td>YMP</td>\n",
       "    </tr>\n",
       "    <tr>\n",
       "      <th>5877</th>\n",
       "      <td>Sullivan Bay Water Aerodrome</td>\n",
       "      <td>YTG</td>\n",
       "    </tr>\n",
       "    <tr>\n",
       "      <th>5878</th>\n",
       "      <td>Deer Harbor Seaplane</td>\n",
       "      <td>DHB</td>\n",
       "    </tr>\n",
       "    <tr>\n",
       "      <th>5879</th>\n",
       "      <td>San Diego Old Town Transit Center</td>\n",
       "      <td>OLT</td>\n",
       "    </tr>\n",
       "  </tbody>\n",
       "</table>\n",
       "<p>5880 rows × 2 columns</p>\n",
       "</div>"
      ],
      "text/plain": [
       "                           Airport Name Airport Code\n",
       "0                                Goroka          GKA\n",
       "1                                Madang          MAG\n",
       "2                           Mount Hagen          HGU\n",
       "3                                Nadzab          LAE\n",
       "4            Port Moresby Jacksons Intl          POM\n",
       "...                                 ...          ...\n",
       "5875    Mansons Landing Water Aerodrome          YMU\n",
       "5876               Port McNeill Airport          YMP\n",
       "5877       Sullivan Bay Water Aerodrome          YTG\n",
       "5878               Deer Harbor Seaplane          DHB\n",
       "5879  San Diego Old Town Transit Center          OLT\n",
       "\n",
       "[5880 rows x 2 columns]"
      ]
     },
     "execution_count": 40,
     "metadata": {},
     "output_type": "execute_result"
    }
   ],
   "source": [
    "pd.read_sql(\"\"\"\n",
    "\n",
    "SELECT name AS \"Airport Name\",\n",
    "       code AS \"Airport Code\"\n",
    "       \n",
    "FROM airports\n",
    "\n",
    "WHERE \"Airport Code\" IS NOT NULL\n",
    "\n",
    "\"\"\", con)"
   ]
  },
  {
   "cell_type": "markdown",
   "metadata": {
    "heading_collapsed": true,
    "hidden": true,
    "slideshow": {
     "slide_type": "fragment"
    }
   },
   "source": [
    "## ORDER BY: Sorting Results"
   ]
  },
  {
   "cell_type": "markdown",
   "metadata": {
    "hidden": true,
    "slideshow": {
     "slide_type": "fragment"
    }
   },
   "source": [
    "Use `ORDER BY` to identify the column(s) you want to sort on. Specify `ASC` for ascending order, `DESC` for descending order."
   ]
  },
  {
   "cell_type": "code",
   "execution_count": 41,
   "metadata": {
    "hidden": true
   },
   "outputs": [
    {
     "data": {
      "text/html": [
       "<div>\n",
       "<style scoped>\n",
       "    .dataframe tbody tr th:only-of-type {\n",
       "        vertical-align: middle;\n",
       "    }\n",
       "\n",
       "    .dataframe tbody tr th {\n",
       "        vertical-align: top;\n",
       "    }\n",
       "\n",
       "    .dataframe thead th {\n",
       "        text-align: right;\n",
       "    }\n",
       "</style>\n",
       "<table border=\"1\" class=\"dataframe\">\n",
       "  <thead>\n",
       "    <tr style=\"text-align: right;\">\n",
       "      <th></th>\n",
       "      <th>Airport Name</th>\n",
       "      <th>Airport Latitude</th>\n",
       "      <th>Altitude (ft)</th>\n",
       "    </tr>\n",
       "  </thead>\n",
       "  <tbody>\n",
       "    <tr>\n",
       "      <th>0</th>\n",
       "      <td>Summit Camp</td>\n",
       "      <td>72</td>\n",
       "      <td>11000</td>\n",
       "    </tr>\n",
       "    <tr>\n",
       "      <th>1</th>\n",
       "      <td>Summit Camp</td>\n",
       "      <td>72</td>\n",
       "      <td>10552</td>\n",
       "    </tr>\n",
       "    <tr>\n",
       "      <th>2</th>\n",
       "      <td>Irkutsk-2</td>\n",
       "      <td>52</td>\n",
       "      <td>13411</td>\n",
       "    </tr>\n",
       "    <tr>\n",
       "      <th>3</th>\n",
       "      <td>Leh</td>\n",
       "      <td>34</td>\n",
       "      <td>10682</td>\n",
       "    </tr>\n",
       "    <tr>\n",
       "      <th>4</th>\n",
       "      <td>Gannan</td>\n",
       "      <td>34</td>\n",
       "      <td>10466</td>\n",
       "    </tr>\n",
       "    <tr>\n",
       "      <th>5</th>\n",
       "      <td>Maiwa</td>\n",
       "      <td>33</td>\n",
       "      <td>11500</td>\n",
       "    </tr>\n",
       "    <tr>\n",
       "      <th>6</th>\n",
       "      <td>Gunsa</td>\n",
       "      <td>32</td>\n",
       "      <td>13780</td>\n",
       "    </tr>\n",
       "    <tr>\n",
       "      <th>7</th>\n",
       "      <td>Yushu Batang</td>\n",
       "      <td>32</td>\n",
       "      <td>13000</td>\n",
       "    </tr>\n",
       "    <tr>\n",
       "      <th>8</th>\n",
       "      <td>Hongyuan Airfield</td>\n",
       "      <td>32</td>\n",
       "      <td>11500</td>\n",
       "    </tr>\n",
       "    <tr>\n",
       "      <th>9</th>\n",
       "      <td>Jiuzhaigou Huanglong</td>\n",
       "      <td>32</td>\n",
       "      <td>11311</td>\n",
       "    </tr>\n",
       "    <tr>\n",
       "      <th>10</th>\n",
       "      <td>Qamdo Bangda Airport</td>\n",
       "      <td>30</td>\n",
       "      <td>14219</td>\n",
       "    </tr>\n",
       "    <tr>\n",
       "      <th>11</th>\n",
       "      <td>Kangding Airport</td>\n",
       "      <td>30</td>\n",
       "      <td>14042</td>\n",
       "    </tr>\n",
       "    <tr>\n",
       "      <th>12</th>\n",
       "      <td>Yading Daocheng</td>\n",
       "      <td>29</td>\n",
       "      <td>14472</td>\n",
       "    </tr>\n",
       "    <tr>\n",
       "      <th>13</th>\n",
       "      <td>Lhasa-Gonggar</td>\n",
       "      <td>29</td>\n",
       "      <td>13136</td>\n",
       "    </tr>\n",
       "    <tr>\n",
       "      <th>14</th>\n",
       "      <td>Shigatse Peace Airport</td>\n",
       "      <td>29</td>\n",
       "      <td>12408</td>\n",
       "    </tr>\n",
       "    <tr>\n",
       "      <th>15</th>\n",
       "      <td>Manang</td>\n",
       "      <td>28</td>\n",
       "      <td>11000</td>\n",
       "    </tr>\n",
       "    <tr>\n",
       "      <th>16</th>\n",
       "      <td>Syangboche</td>\n",
       "      <td>27</td>\n",
       "      <td>12309</td>\n",
       "    </tr>\n",
       "    <tr>\n",
       "      <th>17</th>\n",
       "      <td>Francisco Carle</td>\n",
       "      <td>-11</td>\n",
       "      <td>11034</td>\n",
       "    </tr>\n",
       "    <tr>\n",
       "      <th>18</th>\n",
       "      <td>Poroy Train Station</td>\n",
       "      <td>-13</td>\n",
       "      <td>11710</td>\n",
       "    </tr>\n",
       "    <tr>\n",
       "      <th>19</th>\n",
       "      <td>Andahuaylas</td>\n",
       "      <td>-13</td>\n",
       "      <td>11300</td>\n",
       "    </tr>\n",
       "    <tr>\n",
       "      <th>20</th>\n",
       "      <td>Teniente Alejandro Velasco Astete Intl</td>\n",
       "      <td>-13</td>\n",
       "      <td>10860</td>\n",
       "    </tr>\n",
       "    <tr>\n",
       "      <th>21</th>\n",
       "      <td>Juliaca</td>\n",
       "      <td>-15</td>\n",
       "      <td>12552</td>\n",
       "    </tr>\n",
       "    <tr>\n",
       "      <th>22</th>\n",
       "      <td>El Alto Intl</td>\n",
       "      <td>-16</td>\n",
       "      <td>13325</td>\n",
       "    </tr>\n",
       "    <tr>\n",
       "      <th>23</th>\n",
       "      <td>Copacabana Airport</td>\n",
       "      <td>-16</td>\n",
       "      <td>12591</td>\n",
       "    </tr>\n",
       "    <tr>\n",
       "      <th>24</th>\n",
       "      <td>Juan Mendoza</td>\n",
       "      <td>-17</td>\n",
       "      <td>12146</td>\n",
       "    </tr>\n",
       "    <tr>\n",
       "      <th>25</th>\n",
       "      <td>Capitan Nicolas Rojas</td>\n",
       "      <td>-19</td>\n",
       "      <td>12913</td>\n",
       "    </tr>\n",
       "    <tr>\n",
       "      <th>26</th>\n",
       "      <td>Isla Pescado</td>\n",
       "      <td>-20</td>\n",
       "      <td>12020</td>\n",
       "    </tr>\n",
       "    <tr>\n",
       "      <th>27</th>\n",
       "      <td>Salar de Uyuni</td>\n",
       "      <td>-20</td>\n",
       "      <td>12000</td>\n",
       "    </tr>\n",
       "    <tr>\n",
       "      <th>28</th>\n",
       "      <td>Uyuni Airport</td>\n",
       "      <td>-20</td>\n",
       "      <td>11990</td>\n",
       "    </tr>\n",
       "    <tr>\n",
       "      <th>29</th>\n",
       "      <td>La Quiaca</td>\n",
       "      <td>-22</td>\n",
       "      <td>11414</td>\n",
       "    </tr>\n",
       "  </tbody>\n",
       "</table>\n",
       "</div>"
      ],
      "text/plain": [
       "                              Airport Name  Airport Latitude  Altitude (ft)\n",
       "0                              Summit Camp                72          11000\n",
       "1                              Summit Camp                72          10552\n",
       "2                                Irkutsk-2                52          13411\n",
       "3                                      Leh                34          10682\n",
       "4                                   Gannan                34          10466\n",
       "5                                    Maiwa                33          11500\n",
       "6                                    Gunsa                32          13780\n",
       "7                             Yushu Batang                32          13000\n",
       "8                        Hongyuan Airfield                32          11500\n",
       "9                     Jiuzhaigou Huanglong                32          11311\n",
       "10                    Qamdo Bangda Airport                30          14219\n",
       "11                        Kangding Airport                30          14042\n",
       "12                         Yading Daocheng                29          14472\n",
       "13                           Lhasa-Gonggar                29          13136\n",
       "14                  Shigatse Peace Airport                29          12408\n",
       "15                                  Manang                28          11000\n",
       "16                              Syangboche                27          12309\n",
       "17                         Francisco Carle               -11          11034\n",
       "18                     Poroy Train Station               -13          11710\n",
       "19                             Andahuaylas               -13          11300\n",
       "20  Teniente Alejandro Velasco Astete Intl               -13          10860\n",
       "21                                 Juliaca               -15          12552\n",
       "22                            El Alto Intl               -16          13325\n",
       "23                      Copacabana Airport               -16          12591\n",
       "24                            Juan Mendoza               -17          12146\n",
       "25                   Capitan Nicolas Rojas               -19          12913\n",
       "26                            Isla Pescado               -20          12020\n",
       "27                          Salar de Uyuni               -20          12000\n",
       "28                           Uyuni Airport               -20          11990\n",
       "29                               La Quiaca               -22          11414"
      ]
     },
     "execution_count": 41,
     "metadata": {},
     "output_type": "execute_result"
    }
   ],
   "source": [
    "pd.read_sql(\"\"\"\n",
    "\n",
    "SELECT name AS \"Airport Name\", \n",
    "       CAST(latitude AS int) AS \"Airport Latitude\",\n",
    "       CAST(altitude AS int) AS \"Altitude (ft)\"\n",
    "       \n",
    "FROM airports\n",
    "\n",
    "WHERE \"Altitude (ft)\" >= 10000\n",
    "\n",
    "ORDER BY \"Airport Latitude\" DESC,\n",
    "         \"Altitude (ft)\" DESC \n",
    "         \n",
    "\"\"\", con)"
   ]
  },
  {
   "cell_type": "markdown",
   "metadata": {
    "heading_collapsed": true,
    "hidden": true,
    "slideshow": {
     "slide_type": "fragment"
    }
   },
   "source": [
    "## LIMIT: Number of Results"
   ]
  },
  {
   "cell_type": "markdown",
   "metadata": {
    "hidden": true,
    "slideshow": {
     "slide_type": "fragment"
    }
   },
   "source": [
    "Specify the maximum number of results you want"
   ]
  },
  {
   "cell_type": "code",
   "execution_count": 42,
   "metadata": {
    "hidden": true
   },
   "outputs": [
    {
     "data": {
      "text/html": [
       "<div>\n",
       "<style scoped>\n",
       "    .dataframe tbody tr th:only-of-type {\n",
       "        vertical-align: middle;\n",
       "    }\n",
       "\n",
       "    .dataframe tbody tr th {\n",
       "        vertical-align: top;\n",
       "    }\n",
       "\n",
       "    .dataframe thead th {\n",
       "        text-align: right;\n",
       "    }\n",
       "</style>\n",
       "<table border=\"1\" class=\"dataframe\">\n",
       "  <thead>\n",
       "    <tr style=\"text-align: right;\">\n",
       "      <th></th>\n",
       "      <th>Airport Name</th>\n",
       "      <th>Airport Latitude</th>\n",
       "      <th>Altitude (ft)</th>\n",
       "    </tr>\n",
       "  </thead>\n",
       "  <tbody>\n",
       "    <tr>\n",
       "      <th>0</th>\n",
       "      <td>Summit Camp</td>\n",
       "      <td>72</td>\n",
       "      <td>11000</td>\n",
       "    </tr>\n",
       "    <tr>\n",
       "      <th>1</th>\n",
       "      <td>Summit Camp</td>\n",
       "      <td>72</td>\n",
       "      <td>10552</td>\n",
       "    </tr>\n",
       "    <tr>\n",
       "      <th>2</th>\n",
       "      <td>Irkutsk-2</td>\n",
       "      <td>52</td>\n",
       "      <td>13411</td>\n",
       "    </tr>\n",
       "    <tr>\n",
       "      <th>3</th>\n",
       "      <td>Leh</td>\n",
       "      <td>34</td>\n",
       "      <td>10682</td>\n",
       "    </tr>\n",
       "    <tr>\n",
       "      <th>4</th>\n",
       "      <td>Gannan</td>\n",
       "      <td>34</td>\n",
       "      <td>10466</td>\n",
       "    </tr>\n",
       "    <tr>\n",
       "      <th>5</th>\n",
       "      <td>Maiwa</td>\n",
       "      <td>33</td>\n",
       "      <td>11500</td>\n",
       "    </tr>\n",
       "    <tr>\n",
       "      <th>6</th>\n",
       "      <td>Gunsa</td>\n",
       "      <td>32</td>\n",
       "      <td>13780</td>\n",
       "    </tr>\n",
       "    <tr>\n",
       "      <th>7</th>\n",
       "      <td>Yushu Batang</td>\n",
       "      <td>32</td>\n",
       "      <td>13000</td>\n",
       "    </tr>\n",
       "    <tr>\n",
       "      <th>8</th>\n",
       "      <td>Hongyuan Airfield</td>\n",
       "      <td>32</td>\n",
       "      <td>11500</td>\n",
       "    </tr>\n",
       "    <tr>\n",
       "      <th>9</th>\n",
       "      <td>Jiuzhaigou Huanglong</td>\n",
       "      <td>32</td>\n",
       "      <td>11311</td>\n",
       "    </tr>\n",
       "  </tbody>\n",
       "</table>\n",
       "</div>"
      ],
      "text/plain": [
       "           Airport Name  Airport Latitude  Altitude (ft)\n",
       "0           Summit Camp                72          11000\n",
       "1           Summit Camp                72          10552\n",
       "2             Irkutsk-2                52          13411\n",
       "3                   Leh                34          10682\n",
       "4                Gannan                34          10466\n",
       "5                 Maiwa                33          11500\n",
       "6                 Gunsa                32          13780\n",
       "7          Yushu Batang                32          13000\n",
       "8     Hongyuan Airfield                32          11500\n",
       "9  Jiuzhaigou Huanglong                32          11311"
      ]
     },
     "execution_count": 42,
     "metadata": {},
     "output_type": "execute_result"
    }
   ],
   "source": [
    "pd.read_sql(\"\"\"\n",
    "\n",
    "SELECT name AS \"Airport Name\", \n",
    "       CAST(latitude AS int) AS \"Airport Latitude\",\n",
    "       CAST(altitude AS int) AS \"Altitude (ft)\"\n",
    "       \n",
    "FROM airports\n",
    "\n",
    "WHERE \"Altitude (ft)\" >= 10000\n",
    "\n",
    "ORDER BY \"Airport Latitude\" DESC,\n",
    "         \"Altitude (ft)\" DESC \n",
    "         \n",
    "LIMIT 10\n",
    "\n",
    "\"\"\", con)"
   ]
  },
  {
   "cell_type": "markdown",
   "metadata": {
    "heading_collapsed": true,
    "slideshow": {
     "slide_type": "skip"
    }
   },
   "source": [
    "# Exercises"
   ]
  },
  {
   "cell_type": "markdown",
   "metadata": {
    "heading_collapsed": true,
    "hidden": true
   },
   "source": [
    "## Country List"
   ]
  },
  {
   "cell_type": "markdown",
   "metadata": {
    "hidden": true
   },
   "source": [
    "Create a list of countries with airports and order them alphabetically A-Z.\n",
    "\n",
    "> _Hint: You will need to remove duplicates._"
   ]
  },
  {
   "cell_type": "markdown",
   "metadata": {
    "hidden": true
   },
   "source": [
    "<details>\n",
    "    <summary><b><u>Click Here for Answer Code</u></b></summary>\n",
    "\n",
    "```python \n",
    "pd.read_sql(\"\"\"\n",
    "\n",
    "SELECT DISTINCT country\n",
    "FROM airports\n",
    "ORDER BY country ASC\n",
    "\n",
    "\"\"\", con)\n",
    "```\n",
    "</details>"
   ]
  },
  {
   "cell_type": "code",
   "execution_count": 47,
   "metadata": {
    "hidden": true
   },
   "outputs": [
    {
     "data": {
      "text/html": [
       "<div>\n",
       "<style scoped>\n",
       "    .dataframe tbody tr th:only-of-type {\n",
       "        vertical-align: middle;\n",
       "    }\n",
       "\n",
       "    .dataframe tbody tr th {\n",
       "        vertical-align: top;\n",
       "    }\n",
       "\n",
       "    .dataframe thead th {\n",
       "        text-align: right;\n",
       "    }\n",
       "</style>\n",
       "<table border=\"1\" class=\"dataframe\">\n",
       "  <thead>\n",
       "    <tr style=\"text-align: right;\">\n",
       "      <th></th>\n",
       "      <th>Country</th>\n",
       "    </tr>\n",
       "  </thead>\n",
       "  <tbody>\n",
       "    <tr>\n",
       "      <th>0</th>\n",
       "      <td>Afghanistan</td>\n",
       "    </tr>\n",
       "    <tr>\n",
       "      <th>1</th>\n",
       "      <td>Albania</td>\n",
       "    </tr>\n",
       "    <tr>\n",
       "      <th>2</th>\n",
       "      <td>Algeria</td>\n",
       "    </tr>\n",
       "    <tr>\n",
       "      <th>3</th>\n",
       "      <td>American Samoa</td>\n",
       "    </tr>\n",
       "    <tr>\n",
       "      <th>4</th>\n",
       "      <td>Angola</td>\n",
       "    </tr>\n",
       "    <tr>\n",
       "      <th>...</th>\n",
       "      <td>...</td>\n",
       "    </tr>\n",
       "    <tr>\n",
       "      <th>235</th>\n",
       "      <td>West Bank</td>\n",
       "    </tr>\n",
       "    <tr>\n",
       "      <th>236</th>\n",
       "      <td>Western Sahara</td>\n",
       "    </tr>\n",
       "    <tr>\n",
       "      <th>237</th>\n",
       "      <td>Yemen</td>\n",
       "    </tr>\n",
       "    <tr>\n",
       "      <th>238</th>\n",
       "      <td>Zambia</td>\n",
       "    </tr>\n",
       "    <tr>\n",
       "      <th>239</th>\n",
       "      <td>Zimbabwe</td>\n",
       "    </tr>\n",
       "  </tbody>\n",
       "</table>\n",
       "<p>240 rows × 1 columns</p>\n",
       "</div>"
      ],
      "text/plain": [
       "            Country\n",
       "0       Afghanistan\n",
       "1           Albania\n",
       "2           Algeria\n",
       "3    American Samoa\n",
       "4            Angola\n",
       "..              ...\n",
       "235       West Bank\n",
       "236  Western Sahara\n",
       "237           Yemen\n",
       "238          Zambia\n",
       "239        Zimbabwe\n",
       "\n",
       "[240 rows x 1 columns]"
      ]
     },
     "execution_count": 47,
     "metadata": {},
     "output_type": "execute_result"
    }
   ],
   "source": [
    "# Your work here\n",
    "pd.read_sql(\"\"\"\n",
    "SELECT DISTINCT country AS \"Country\"\n",
    "FROM airports\n",
    "ORDER BY \"Country\" ASC\n",
    "\"\"\",con)"
   ]
  },
  {
   "cell_type": "markdown",
   "metadata": {
    "heading_collapsed": true,
    "hidden": true
   },
   "source": [
    "## Southern Airports"
   ]
  },
  {
   "cell_type": "markdown",
   "metadata": {
    "hidden": true
   },
   "source": [
    "Get the name, country and latitude of the 10 southern-most airports. \n",
    "\n",
    "> _Hint: Look for the smallest latitude._"
   ]
  },
  {
   "cell_type": "markdown",
   "metadata": {
    "hidden": true
   },
   "source": [
    "<details>\n",
    "    <summary><b><u>Click Here for Answer Code</u></b></summary>\n",
    "\n",
    "```python \n",
    "pd.read_sql(\"\"\"\n",
    "\n",
    "SELECT name, country, CAST(latitude AS int) AS \"Airport Latitude\"\n",
    "FROM airports\n",
    "ORDER BY \"Airport Latitude\" ASC\n",
    "LIMIT 10\n",
    "\n",
    "\"\"\", con)\n",
    "``` \n",
    "</details>"
   ]
  },
  {
   "cell_type": "code",
   "execution_count": 54,
   "metadata": {},
   "outputs": [
    {
     "data": {
      "text/html": [
       "<div>\n",
       "<style scoped>\n",
       "    .dataframe tbody tr th:only-of-type {\n",
       "        vertical-align: middle;\n",
       "    }\n",
       "\n",
       "    .dataframe tbody tr th {\n",
       "        vertical-align: top;\n",
       "    }\n",
       "\n",
       "    .dataframe thead th {\n",
       "        text-align: right;\n",
       "    }\n",
       "</style>\n",
       "<table border=\"1\" class=\"dataframe\">\n",
       "  <thead>\n",
       "    <tr style=\"text-align: right;\">\n",
       "      <th></th>\n",
       "      <th>latitude</th>\n",
       "    </tr>\n",
       "  </thead>\n",
       "  <tbody>\n",
       "    <tr>\n",
       "      <th>0</th>\n",
       "      <td>-89</td>\n",
       "    </tr>\n",
       "    <tr>\n",
       "      <th>1</th>\n",
       "      <td>-77</td>\n",
       "    </tr>\n",
       "    <tr>\n",
       "      <th>2</th>\n",
       "      <td>-77</td>\n",
       "    </tr>\n",
       "    <tr>\n",
       "      <th>3</th>\n",
       "      <td>-77</td>\n",
       "    </tr>\n",
       "    <tr>\n",
       "      <th>4</th>\n",
       "      <td>-68</td>\n",
       "    </tr>\n",
       "    <tr>\n",
       "      <th>...</th>\n",
       "      <td>...</td>\n",
       "    </tr>\n",
       "    <tr>\n",
       "      <th>8102</th>\n",
       "      <td>78</td>\n",
       "    </tr>\n",
       "    <tr>\n",
       "      <th>8103</th>\n",
       "      <td>78</td>\n",
       "    </tr>\n",
       "    <tr>\n",
       "      <th>8104</th>\n",
       "      <td>78</td>\n",
       "    </tr>\n",
       "    <tr>\n",
       "      <th>8105</th>\n",
       "      <td>79</td>\n",
       "    </tr>\n",
       "    <tr>\n",
       "      <th>8106</th>\n",
       "      <td>82</td>\n",
       "    </tr>\n",
       "  </tbody>\n",
       "</table>\n",
       "<p>8107 rows × 1 columns</p>\n",
       "</div>"
      ],
      "text/plain": [
       "      latitude\n",
       "0          -89\n",
       "1          -77\n",
       "2          -77\n",
       "3          -77\n",
       "4          -68\n",
       "...        ...\n",
       "8102        78\n",
       "8103        78\n",
       "8104        78\n",
       "8105        79\n",
       "8106        82\n",
       "\n",
       "[8107 rows x 1 columns]"
      ]
     },
     "execution_count": 54,
     "metadata": {},
     "output_type": "execute_result"
    }
   ],
   "source": [
    "pd.read_sql('''\n",
    "SELECT CAST(latitude as int) AS \"latitude\"\n",
    "FROM airports\n",
    "ORDER BY \"latitude\" ASC\n",
    "''',con)"
   ]
  },
  {
   "cell_type": "code",
   "execution_count": 56,
   "metadata": {
    "hidden": true
   },
   "outputs": [
    {
     "data": {
      "text/html": [
       "<div>\n",
       "<style scoped>\n",
       "    .dataframe tbody tr th:only-of-type {\n",
       "        vertical-align: middle;\n",
       "    }\n",
       "\n",
       "    .dataframe tbody tr th {\n",
       "        vertical-align: top;\n",
       "    }\n",
       "\n",
       "    .dataframe thead th {\n",
       "        text-align: right;\n",
       "    }\n",
       "</style>\n",
       "<table border=\"1\" class=\"dataframe\">\n",
       "  <thead>\n",
       "    <tr style=\"text-align: right;\">\n",
       "      <th></th>\n",
       "      <th>name</th>\n",
       "      <th>country</th>\n",
       "      <th>latitude</th>\n",
       "    </tr>\n",
       "  </thead>\n",
       "  <tbody>\n",
       "    <tr>\n",
       "      <th>0</th>\n",
       "      <td>South Pole Station</td>\n",
       "      <td>Antarctica</td>\n",
       "      <td>-89</td>\n",
       "    </tr>\n",
       "    <tr>\n",
       "      <th>1</th>\n",
       "      <td>Mcmurdo Station</td>\n",
       "      <td>Antarctica</td>\n",
       "      <td>-77</td>\n",
       "    </tr>\n",
       "    <tr>\n",
       "      <th>2</th>\n",
       "      <td>Ice Runway-McMurdo Sstation</td>\n",
       "      <td>Antarctica</td>\n",
       "      <td>-77</td>\n",
       "    </tr>\n",
       "    <tr>\n",
       "      <th>3</th>\n",
       "      <td>McMurdo Station Pegasus Field</td>\n",
       "      <td>Antarctica</td>\n",
       "      <td>-77</td>\n",
       "    </tr>\n",
       "    <tr>\n",
       "      <th>4</th>\n",
       "      <td>South Shetland</td>\n",
       "      <td>Antarctica</td>\n",
       "      <td>-68</td>\n",
       "    </tr>\n",
       "    <tr>\n",
       "      <th>5</th>\n",
       "      <td>Rothera Research Station</td>\n",
       "      <td>United Kingdom</td>\n",
       "      <td>-67</td>\n",
       "    </tr>\n",
       "    <tr>\n",
       "      <th>6</th>\n",
       "      <td>Wilkins Runway</td>\n",
       "      <td>Antarctica</td>\n",
       "      <td>-66</td>\n",
       "    </tr>\n",
       "    <tr>\n",
       "      <th>7</th>\n",
       "      <td>Antarctica</td>\n",
       "      <td>Antarctica</td>\n",
       "      <td>-66</td>\n",
       "    </tr>\n",
       "    <tr>\n",
       "      <th>8</th>\n",
       "      <td>Antarctica</td>\n",
       "      <td>Antarctica</td>\n",
       "      <td>-66</td>\n",
       "    </tr>\n",
       "    <tr>\n",
       "      <th>9</th>\n",
       "      <td>Base Marambio</td>\n",
       "      <td>Antarctica</td>\n",
       "      <td>-64</td>\n",
       "    </tr>\n",
       "  </tbody>\n",
       "</table>\n",
       "</div>"
      ],
      "text/plain": [
       "                            name         country  latitude\n",
       "0             South Pole Station      Antarctica       -89\n",
       "1                Mcmurdo Station      Antarctica       -77\n",
       "2    Ice Runway-McMurdo Sstation      Antarctica       -77\n",
       "3  McMurdo Station Pegasus Field      Antarctica       -77\n",
       "4                 South Shetland      Antarctica       -68\n",
       "5       Rothera Research Station  United Kingdom       -67\n",
       "6                 Wilkins Runway      Antarctica       -66\n",
       "7                     Antarctica      Antarctica       -66\n",
       "8                     Antarctica      Antarctica       -66\n",
       "9                  Base Marambio      Antarctica       -64"
      ]
     },
     "execution_count": 56,
     "metadata": {},
     "output_type": "execute_result"
    }
   ],
   "source": [
    "# Your work here\n",
    "\n",
    "pd.read_sql(\"\"\"\n",
    "SELECT name, country, CAST(latitude as int) AS \"latitude\"\n",
    "FROM airports\n",
    "\n",
    "ORDER BY latitude ASC\n",
    "\n",
    "LIMIT 10\n",
    "\"\"\",con)"
   ]
  },
  {
   "cell_type": "markdown",
   "metadata": {
    "heading_collapsed": true,
    "hidden": true,
    "slideshow": {
     "slide_type": "slide"
    }
   },
   "source": [
    "## Active UK Airlines"
   ]
  },
  {
   "cell_type": "markdown",
   "metadata": {
    "hidden": true,
    "slideshow": {
     "slide_type": "slide"
    }
   },
   "source": [
    "Create a list of active airlines in the United Kingdom from the airlines table. \n",
    "\n",
    "> _Hint: You will need to explore the airlines table to figure out how to do this._"
   ]
  },
  {
   "cell_type": "markdown",
   "metadata": {
    "hidden": true,
    "slideshow": {
     "slide_type": "slide"
    }
   },
   "source": [
    "<details>\n",
    "    <summary><b><u>Click Here for Answer Code</u></b></summary>\n",
    "\n",
    "```python \n",
    "pd.read_sql(\"\"\"\n",
    "\n",
    "SELECT name\n",
    "FROM airlines\n",
    "WHERE active='Y'\n",
    "AND country='United Kingdom'\n",
    "\n",
    "\"\"\", con)\n",
    "```\n",
    "</details>"
   ]
  },
  {
   "cell_type": "code",
   "execution_count": 63,
   "metadata": {
    "hidden": true
   },
   "outputs": [
    {
     "data": {
      "text/html": [
       "<div>\n",
       "<style scoped>\n",
       "    .dataframe tbody tr th:only-of-type {\n",
       "        vertical-align: middle;\n",
       "    }\n",
       "\n",
       "    .dataframe tbody tr th {\n",
       "        vertical-align: top;\n",
       "    }\n",
       "\n",
       "    .dataframe thead th {\n",
       "        text-align: right;\n",
       "    }\n",
       "</style>\n",
       "<table border=\"1\" class=\"dataframe\">\n",
       "  <thead>\n",
       "    <tr style=\"text-align: right;\">\n",
       "      <th></th>\n",
       "      <th>name</th>\n",
       "    </tr>\n",
       "  </thead>\n",
       "  <tbody>\n",
       "    <tr>\n",
       "      <th>0</th>\n",
       "      <td>Astraeus</td>\n",
       "    </tr>\n",
       "    <tr>\n",
       "      <th>1</th>\n",
       "      <td>Air Southwest</td>\n",
       "    </tr>\n",
       "    <tr>\n",
       "      <th>2</th>\n",
       "      <td>Aurigny Air Services</td>\n",
       "    </tr>\n",
       "    <tr>\n",
       "      <th>3</th>\n",
       "      <td>Air Wales</td>\n",
       "    </tr>\n",
       "    <tr>\n",
       "      <th>4</th>\n",
       "      <td>AD Aviation</td>\n",
       "    </tr>\n",
       "    <tr>\n",
       "      <th>5</th>\n",
       "      <td>Air Foyle</td>\n",
       "    </tr>\n",
       "    <tr>\n",
       "      <th>6</th>\n",
       "      <td>British Airways</td>\n",
       "    </tr>\n",
       "    <tr>\n",
       "      <th>7</th>\n",
       "      <td>British International Helicopters</td>\n",
       "    </tr>\n",
       "    <tr>\n",
       "      <th>8</th>\n",
       "      <td>bmi</td>\n",
       "    </tr>\n",
       "    <tr>\n",
       "      <th>9</th>\n",
       "      <td>bmibaby</td>\n",
       "    </tr>\n",
       "    <tr>\n",
       "      <th>10</th>\n",
       "      <td>British Midland Regional</td>\n",
       "    </tr>\n",
       "    <tr>\n",
       "      <th>11</th>\n",
       "      <td>British Mediterranean Airways</td>\n",
       "    </tr>\n",
       "    <tr>\n",
       "      <th>12</th>\n",
       "      <td>BA CityFlyer</td>\n",
       "    </tr>\n",
       "    <tr>\n",
       "      <th>13</th>\n",
       "      <td>Crest Aviation</td>\n",
       "    </tr>\n",
       "    <tr>\n",
       "      <th>14</th>\n",
       "      <td>Eastern Airways</td>\n",
       "    </tr>\n",
       "    <tr>\n",
       "      <th>15</th>\n",
       "      <td>Excel Airways</td>\n",
       "    </tr>\n",
       "    <tr>\n",
       "      <th>16</th>\n",
       "      <td>Excel Charter</td>\n",
       "    </tr>\n",
       "    <tr>\n",
       "      <th>17</th>\n",
       "      <td>easyJet</td>\n",
       "    </tr>\n",
       "    <tr>\n",
       "      <th>18</th>\n",
       "      <td>First Choice Airways</td>\n",
       "    </tr>\n",
       "    <tr>\n",
       "      <th>19</th>\n",
       "      <td>Flightline</td>\n",
       "    </tr>\n",
       "    <tr>\n",
       "      <th>20</th>\n",
       "      <td>Flybe</td>\n",
       "    </tr>\n",
       "    <tr>\n",
       "      <th>21</th>\n",
       "      <td>Flyglobespan</td>\n",
       "    </tr>\n",
       "    <tr>\n",
       "      <th>22</th>\n",
       "      <td>GB Airways</td>\n",
       "    </tr>\n",
       "    <tr>\n",
       "      <th>23</th>\n",
       "      <td>Highland Airways</td>\n",
       "    </tr>\n",
       "    <tr>\n",
       "      <th>24</th>\n",
       "      <td>Jet2.com</td>\n",
       "    </tr>\n",
       "    <tr>\n",
       "      <th>25</th>\n",
       "      <td>Monarch Airlines</td>\n",
       "    </tr>\n",
       "    <tr>\n",
       "      <th>26</th>\n",
       "      <td>MyTravel Airways</td>\n",
       "    </tr>\n",
       "    <tr>\n",
       "      <th>27</th>\n",
       "      <td>Norfolk County Flight College</td>\n",
       "    </tr>\n",
       "    <tr>\n",
       "      <th>28</th>\n",
       "      <td>Kinloss Flying Training Unit</td>\n",
       "    </tr>\n",
       "    <tr>\n",
       "      <th>29</th>\n",
       "      <td>ScotAirways</td>\n",
       "    </tr>\n",
       "    <tr>\n",
       "      <th>30</th>\n",
       "      <td>Thomas Cook Airlines</td>\n",
       "    </tr>\n",
       "    <tr>\n",
       "      <th>31</th>\n",
       "      <td>Thomsonfly</td>\n",
       "    </tr>\n",
       "    <tr>\n",
       "      <th>32</th>\n",
       "      <td>Virgin Atlantic Airways</td>\n",
       "    </tr>\n",
       "    <tr>\n",
       "      <th>33</th>\n",
       "      <td>Jc royal.britannica</td>\n",
       "    </tr>\n",
       "    <tr>\n",
       "      <th>34</th>\n",
       "      <td>Royal European Airlines</td>\n",
       "    </tr>\n",
       "    <tr>\n",
       "      <th>35</th>\n",
       "      <td>CB Airways UK ( Interliging Flights )</td>\n",
       "    </tr>\n",
       "    <tr>\n",
       "      <th>36</th>\n",
       "      <td>Air Cudlua</td>\n",
       "    </tr>\n",
       "    <tr>\n",
       "      <th>37</th>\n",
       "      <td>BBN-Airways</td>\n",
       "    </tr>\n",
       "    <tr>\n",
       "      <th>38</th>\n",
       "      <td>Rainbow Air Euro</td>\n",
       "    </tr>\n",
       "    <tr>\n",
       "      <th>39</th>\n",
       "      <td>All Europe</td>\n",
       "    </tr>\n",
       "  </tbody>\n",
       "</table>\n",
       "</div>"
      ],
      "text/plain": [
       "                                     name\n",
       "0                                Astraeus\n",
       "1                           Air Southwest\n",
       "2                    Aurigny Air Services\n",
       "3                               Air Wales\n",
       "4                             AD Aviation\n",
       "5                               Air Foyle\n",
       "6                         British Airways\n",
       "7       British International Helicopters\n",
       "8                                     bmi\n",
       "9                                 bmibaby\n",
       "10               British Midland Regional\n",
       "11          British Mediterranean Airways\n",
       "12                           BA CityFlyer\n",
       "13                         Crest Aviation\n",
       "14                        Eastern Airways\n",
       "15                          Excel Airways\n",
       "16                          Excel Charter\n",
       "17                                easyJet\n",
       "18                   First Choice Airways\n",
       "19                             Flightline\n",
       "20                                  Flybe\n",
       "21                           Flyglobespan\n",
       "22                             GB Airways\n",
       "23                       Highland Airways\n",
       "24                               Jet2.com\n",
       "25                       Monarch Airlines\n",
       "26                       MyTravel Airways\n",
       "27          Norfolk County Flight College\n",
       "28           Kinloss Flying Training Unit\n",
       "29                            ScotAirways\n",
       "30                   Thomas Cook Airlines\n",
       "31                             Thomsonfly\n",
       "32                Virgin Atlantic Airways\n",
       "33                    Jc royal.britannica\n",
       "34                Royal European Airlines\n",
       "35  CB Airways UK ( Interliging Flights )\n",
       "36                             Air Cudlua\n",
       "37                            BBN-Airways\n",
       "38                       Rainbow Air Euro\n",
       "39                             All Europe"
      ]
     },
     "execution_count": 63,
     "metadata": {},
     "output_type": "execute_result"
    }
   ],
   "source": [
    "# Your work here\n",
    "pd.read_sql(\"\"\"\n",
    "SELECT name\n",
    "FROM airlines\n",
    "WHERE active IS \"Y\" \n",
    "AND country=\"United Kingdom\"\n",
    "\"\"\",con)"
   ]
  },
  {
   "cell_type": "markdown",
   "metadata": {
    "heading_collapsed": true,
    "hidden": true
   },
   "source": [
    "## Explore Routes"
   ]
  },
  {
   "cell_type": "markdown",
   "metadata": {
    "hidden": true
   },
   "source": [
    "Get the column names from the routes table and inspect some raw data. Which columns might be keys that connect this table to the other two tables?"
   ]
  },
  {
   "cell_type": "markdown",
   "metadata": {
    "hidden": true
   },
   "source": [
    "<details>\n",
    "    <summary><b><u>Click Here for Answer Code</u></b></summary>\n",
    "\n",
    "```python \n",
    "pd.read_sql(\"\"\"\n",
    "\n",
    "SELECT *\n",
    "FROM routes\n",
    "LIMIT 5\n",
    "\n",
    "\"\"\", con)\n",
    "```   \n",
    "> The airline_id is a foreign key to the airlines table, the source_id and dest_id columns are foreign keys to the airports table\n",
    "    \n",
    "</details>"
   ]
  },
  {
   "cell_type": "code",
   "execution_count": 65,
   "metadata": {
    "hidden": true
   },
   "outputs": [
    {
     "name": "stdout",
     "output_type": "stream",
     "text": [
      "<class 'pandas.core.frame.DataFrame'>\n",
      "RangeIndex: 67663 entries, 0 to 67662\n",
      "Data columns (total 10 columns):\n",
      " #   Column      Non-Null Count  Dtype \n",
      "---  ------      --------------  ----- \n",
      " 0   index       67663 non-null  int64 \n",
      " 1   airline     67663 non-null  object\n",
      " 2   airline_id  67663 non-null  object\n",
      " 3   source      67663 non-null  object\n",
      " 4   source_id   67663 non-null  object\n",
      " 5   dest        67663 non-null  object\n",
      " 6   dest_id     67663 non-null  object\n",
      " 7   codeshare   14597 non-null  object\n",
      " 8   stops       67663 non-null  object\n",
      " 9   equipment   67645 non-null  object\n",
      "dtypes: int64(1), object(9)\n",
      "memory usage: 5.2+ MB\n"
     ]
    }
   ],
   "source": [
    "# Your work here\n",
    "routes_df = pd.read_sql(\"\"\"\n",
    "SELECT *\n",
    "FROM routes\"\"\",con)"
   ]
  },
  {
   "cell_type": "code",
   "execution_count": 67,
   "metadata": {},
   "outputs": [],
   "source": [
    "airlines_df = pd.read_sql(\"\"\"\n",
    "SELECT *\n",
    "FROM airlines\n",
    "\"\"\",con)"
   ]
  },
  {
   "cell_type": "code",
   "execution_count": 69,
   "metadata": {},
   "outputs": [
    {
     "name": "stdout",
     "output_type": "stream",
     "text": [
      "<class 'pandas.core.frame.DataFrame'>\n",
      "RangeIndex: 6048 entries, 0 to 6047\n",
      "Data columns (total 9 columns):\n",
      " #   Column    Non-Null Count  Dtype \n",
      "---  ------    --------------  ----- \n",
      " 0   index     6048 non-null   int64 \n",
      " 1   id        6048 non-null   object\n",
      " 2   name      6048 non-null   object\n",
      " 3   alias     5615 non-null   object\n",
      " 4   iata      1461 non-null   object\n",
      " 5   icao      5961 non-null   object\n",
      " 6   callsign  5305 non-null   object\n",
      " 7   country   6033 non-null   object\n",
      " 8   active    6048 non-null   object\n",
      "dtypes: int64(1), object(8)\n",
      "memory usage: 425.4+ KB\n"
     ]
    }
   ],
   "source": [
    "airlines_df.info()"
   ]
  },
  {
   "cell_type": "code",
   "execution_count": 66,
   "metadata": {},
   "outputs": [],
   "source": [
    "airports_df = pd.read_sql(\"\"\"\n",
    "SELECT *\n",
    "FROM airports\n",
    "\"\"\",con)"
   ]
  },
  {
   "cell_type": "code",
   "execution_count": 71,
   "metadata": {},
   "outputs": [
    {
     "name": "stdout",
     "output_type": "stream",
     "text": [
      "<class 'pandas.core.frame.DataFrame'>\n",
      "RangeIndex: 8107 entries, 0 to 8106\n",
      "Data columns (total 13 columns):\n",
      " #   Column     Non-Null Count  Dtype \n",
      "---  ------     --------------  ----- \n",
      " 0   index      8107 non-null   int64 \n",
      " 1   id         8107 non-null   object\n",
      " 2   name       8107 non-null   object\n",
      " 3   city       8107 non-null   object\n",
      " 4   country    8107 non-null   object\n",
      " 5   code       5880 non-null   object\n",
      " 6   icao       8043 non-null   object\n",
      " 7   latitude   8107 non-null   object\n",
      " 8   longitude  8107 non-null   object\n",
      " 9   altitude   8107 non-null   object\n",
      " 10  offset     8107 non-null   object\n",
      " 11  dst        8107 non-null   object\n",
      " 12  timezone   8107 non-null   object\n",
      "dtypes: int64(1), object(12)\n",
      "memory usage: 823.5+ KB\n"
     ]
    }
   ],
   "source": [
    "airports_df.info()"
   ]
  },
  {
   "cell_type": "code",
   "execution_count": 72,
   "metadata": {},
   "outputs": [
    {
     "data": {
      "text/html": [
       "<div>\n",
       "<style scoped>\n",
       "    .dataframe tbody tr th:only-of-type {\n",
       "        vertical-align: middle;\n",
       "    }\n",
       "\n",
       "    .dataframe tbody tr th {\n",
       "        vertical-align: top;\n",
       "    }\n",
       "\n",
       "    .dataframe thead th {\n",
       "        text-align: right;\n",
       "    }\n",
       "</style>\n",
       "<table border=\"1\" class=\"dataframe\">\n",
       "  <thead>\n",
       "    <tr style=\"text-align: right;\">\n",
       "      <th></th>\n",
       "      <th>index</th>\n",
       "      <th>id</th>\n",
       "      <th>name</th>\n",
       "      <th>city</th>\n",
       "      <th>country</th>\n",
       "      <th>code</th>\n",
       "      <th>icao</th>\n",
       "      <th>latitude</th>\n",
       "      <th>longitude</th>\n",
       "      <th>altitude</th>\n",
       "      <th>offset</th>\n",
       "      <th>dst</th>\n",
       "      <th>timezone</th>\n",
       "    </tr>\n",
       "  </thead>\n",
       "  <tbody>\n",
       "    <tr>\n",
       "      <th>0</th>\n",
       "      <td>0</td>\n",
       "      <td>1</td>\n",
       "      <td>Goroka</td>\n",
       "      <td>Goroka</td>\n",
       "      <td>Papua New Guinea</td>\n",
       "      <td>GKA</td>\n",
       "      <td>AYGA</td>\n",
       "      <td>-6.081689</td>\n",
       "      <td>145.391881</td>\n",
       "      <td>5282</td>\n",
       "      <td>10</td>\n",
       "      <td>U</td>\n",
       "      <td>Pacific/Port_Moresby</td>\n",
       "    </tr>\n",
       "    <tr>\n",
       "      <th>1</th>\n",
       "      <td>1</td>\n",
       "      <td>2</td>\n",
       "      <td>Madang</td>\n",
       "      <td>Madang</td>\n",
       "      <td>Papua New Guinea</td>\n",
       "      <td>MAG</td>\n",
       "      <td>AYMD</td>\n",
       "      <td>-5.207083</td>\n",
       "      <td>145.7887</td>\n",
       "      <td>20</td>\n",
       "      <td>10</td>\n",
       "      <td>U</td>\n",
       "      <td>Pacific/Port_Moresby</td>\n",
       "    </tr>\n",
       "    <tr>\n",
       "      <th>2</th>\n",
       "      <td>2</td>\n",
       "      <td>3</td>\n",
       "      <td>Mount Hagen</td>\n",
       "      <td>Mount Hagen</td>\n",
       "      <td>Papua New Guinea</td>\n",
       "      <td>HGU</td>\n",
       "      <td>AYMH</td>\n",
       "      <td>-5.826789</td>\n",
       "      <td>144.295861</td>\n",
       "      <td>5388</td>\n",
       "      <td>10</td>\n",
       "      <td>U</td>\n",
       "      <td>Pacific/Port_Moresby</td>\n",
       "    </tr>\n",
       "    <tr>\n",
       "      <th>3</th>\n",
       "      <td>3</td>\n",
       "      <td>4</td>\n",
       "      <td>Nadzab</td>\n",
       "      <td>Nadzab</td>\n",
       "      <td>Papua New Guinea</td>\n",
       "      <td>LAE</td>\n",
       "      <td>AYNZ</td>\n",
       "      <td>-6.569828</td>\n",
       "      <td>146.726242</td>\n",
       "      <td>239</td>\n",
       "      <td>10</td>\n",
       "      <td>U</td>\n",
       "      <td>Pacific/Port_Moresby</td>\n",
       "    </tr>\n",
       "    <tr>\n",
       "      <th>4</th>\n",
       "      <td>4</td>\n",
       "      <td>5</td>\n",
       "      <td>Port Moresby Jacksons Intl</td>\n",
       "      <td>Port Moresby</td>\n",
       "      <td>Papua New Guinea</td>\n",
       "      <td>POM</td>\n",
       "      <td>AYPY</td>\n",
       "      <td>-9.443383</td>\n",
       "      <td>147.22005</td>\n",
       "      <td>146</td>\n",
       "      <td>10</td>\n",
       "      <td>U</td>\n",
       "      <td>Pacific/Port_Moresby</td>\n",
       "    </tr>\n",
       "    <tr>\n",
       "      <th>...</th>\n",
       "      <td>...</td>\n",
       "      <td>...</td>\n",
       "      <td>...</td>\n",
       "      <td>...</td>\n",
       "      <td>...</td>\n",
       "      <td>...</td>\n",
       "      <td>...</td>\n",
       "      <td>...</td>\n",
       "      <td>...</td>\n",
       "      <td>...</td>\n",
       "      <td>...</td>\n",
       "      <td>...</td>\n",
       "      <td>...</td>\n",
       "    </tr>\n",
       "    <tr>\n",
       "      <th>8102</th>\n",
       "      <td>8102</td>\n",
       "      <td>9537</td>\n",
       "      <td>Mansons Landing Water Aerodrome</td>\n",
       "      <td>Mansons Landing</td>\n",
       "      <td>Canada</td>\n",
       "      <td>YMU</td>\n",
       "      <td>\\N</td>\n",
       "      <td>50.066667</td>\n",
       "      <td>-124.983333</td>\n",
       "      <td>0</td>\n",
       "      <td>-8</td>\n",
       "      <td>A</td>\n",
       "      <td>America/Vancouver</td>\n",
       "    </tr>\n",
       "    <tr>\n",
       "      <th>8103</th>\n",
       "      <td>8103</td>\n",
       "      <td>9538</td>\n",
       "      <td>Port McNeill Airport</td>\n",
       "      <td>Port McNeill</td>\n",
       "      <td>Canada</td>\n",
       "      <td>YMP</td>\n",
       "      <td>\\N</td>\n",
       "      <td>50.575556</td>\n",
       "      <td>-127.028611</td>\n",
       "      <td>225</td>\n",
       "      <td>-8</td>\n",
       "      <td>A</td>\n",
       "      <td>America/Vancouver</td>\n",
       "    </tr>\n",
       "    <tr>\n",
       "      <th>8104</th>\n",
       "      <td>8104</td>\n",
       "      <td>9539</td>\n",
       "      <td>Sullivan Bay Water Aerodrome</td>\n",
       "      <td>Sullivan Bay</td>\n",
       "      <td>Canada</td>\n",
       "      <td>YTG</td>\n",
       "      <td>\\N</td>\n",
       "      <td>50.883333</td>\n",
       "      <td>-126.833333</td>\n",
       "      <td>0</td>\n",
       "      <td>-8</td>\n",
       "      <td>A</td>\n",
       "      <td>America/Vancouver</td>\n",
       "    </tr>\n",
       "    <tr>\n",
       "      <th>8105</th>\n",
       "      <td>8105</td>\n",
       "      <td>9540</td>\n",
       "      <td>Deer Harbor Seaplane</td>\n",
       "      <td>Deer Harbor</td>\n",
       "      <td>United States</td>\n",
       "      <td>DHB</td>\n",
       "      <td>\\N</td>\n",
       "      <td>48.618397</td>\n",
       "      <td>-123.00596</td>\n",
       "      <td>0</td>\n",
       "      <td>-8</td>\n",
       "      <td>A</td>\n",
       "      <td>America/Los_Angeles</td>\n",
       "    </tr>\n",
       "    <tr>\n",
       "      <th>8106</th>\n",
       "      <td>8106</td>\n",
       "      <td>9541</td>\n",
       "      <td>San Diego Old Town Transit Center</td>\n",
       "      <td>San Diego</td>\n",
       "      <td>United States</td>\n",
       "      <td>OLT</td>\n",
       "      <td>\\N</td>\n",
       "      <td>32.7552</td>\n",
       "      <td>-117.1995</td>\n",
       "      <td>0</td>\n",
       "      <td>-8</td>\n",
       "      <td>A</td>\n",
       "      <td>America/Los_Angeles</td>\n",
       "    </tr>\n",
       "  </tbody>\n",
       "</table>\n",
       "<p>8107 rows × 13 columns</p>\n",
       "</div>"
      ],
      "text/plain": [
       "      index    id                               name             city  \\\n",
       "0         0     1                             Goroka           Goroka   \n",
       "1         1     2                             Madang           Madang   \n",
       "2         2     3                        Mount Hagen      Mount Hagen   \n",
       "3         3     4                             Nadzab           Nadzab   \n",
       "4         4     5         Port Moresby Jacksons Intl     Port Moresby   \n",
       "...     ...   ...                                ...              ...   \n",
       "8102   8102  9537    Mansons Landing Water Aerodrome  Mansons Landing   \n",
       "8103   8103  9538               Port McNeill Airport     Port McNeill   \n",
       "8104   8104  9539       Sullivan Bay Water Aerodrome     Sullivan Bay   \n",
       "8105   8105  9540               Deer Harbor Seaplane      Deer Harbor   \n",
       "8106   8106  9541  San Diego Old Town Transit Center        San Diego   \n",
       "\n",
       "               country code  icao   latitude    longitude altitude offset dst  \\\n",
       "0     Papua New Guinea  GKA  AYGA  -6.081689   145.391881     5282     10   U   \n",
       "1     Papua New Guinea  MAG  AYMD  -5.207083     145.7887       20     10   U   \n",
       "2     Papua New Guinea  HGU  AYMH  -5.826789   144.295861     5388     10   U   \n",
       "3     Papua New Guinea  LAE  AYNZ  -6.569828   146.726242      239     10   U   \n",
       "4     Papua New Guinea  POM  AYPY  -9.443383    147.22005      146     10   U   \n",
       "...                ...  ...   ...        ...          ...      ...    ...  ..   \n",
       "8102            Canada  YMU    \\N  50.066667  -124.983333        0     -8   A   \n",
       "8103            Canada  YMP    \\N  50.575556  -127.028611      225     -8   A   \n",
       "8104            Canada  YTG    \\N  50.883333  -126.833333        0     -8   A   \n",
       "8105     United States  DHB    \\N  48.618397   -123.00596        0     -8   A   \n",
       "8106     United States  OLT    \\N    32.7552    -117.1995        0     -8   A   \n",
       "\n",
       "                  timezone  \n",
       "0     Pacific/Port_Moresby  \n",
       "1     Pacific/Port_Moresby  \n",
       "2     Pacific/Port_Moresby  \n",
       "3     Pacific/Port_Moresby  \n",
       "4     Pacific/Port_Moresby  \n",
       "...                    ...  \n",
       "8102     America/Vancouver  \n",
       "8103     America/Vancouver  \n",
       "8104     America/Vancouver  \n",
       "8105   America/Los_Angeles  \n",
       "8106   America/Los_Angeles  \n",
       "\n",
       "[8107 rows x 13 columns]"
      ]
     },
     "execution_count": 72,
     "metadata": {},
     "output_type": "execute_result"
    }
   ],
   "source": [
    "airports_df"
   ]
  },
  {
   "cell_type": "markdown",
   "metadata": {
    "heading_collapsed": true
   },
   "source": [
    "# Level Up: `CASE`"
   ]
  },
  {
   "cell_type": "markdown",
   "metadata": {
    "hidden": true
   },
   "source": [
    "Use `CASE` to create new columns using conditional logic."
   ]
  },
  {
   "cell_type": "code",
   "execution_count": 73,
   "metadata": {
    "hidden": true
   },
   "outputs": [
    {
     "data": {
      "text/html": [
       "<div>\n",
       "<style scoped>\n",
       "    .dataframe tbody tr th:only-of-type {\n",
       "        vertical-align: middle;\n",
       "    }\n",
       "\n",
       "    .dataframe tbody tr th {\n",
       "        vertical-align: top;\n",
       "    }\n",
       "\n",
       "    .dataframe thead th {\n",
       "        text-align: right;\n",
       "    }\n",
       "</style>\n",
       "<table border=\"1\" class=\"dataframe\">\n",
       "  <thead>\n",
       "    <tr style=\"text-align: right;\">\n",
       "      <th></th>\n",
       "      <th>Airport Name</th>\n",
       "      <th>Altitude (ft)</th>\n",
       "      <th>Altitude Category</th>\n",
       "    </tr>\n",
       "  </thead>\n",
       "  <tbody>\n",
       "    <tr>\n",
       "      <th>0</th>\n",
       "      <td>Goroka</td>\n",
       "      <td>5282</td>\n",
       "      <td>High</td>\n",
       "    </tr>\n",
       "    <tr>\n",
       "      <th>1</th>\n",
       "      <td>Madang</td>\n",
       "      <td>20</td>\n",
       "      <td>Low</td>\n",
       "    </tr>\n",
       "    <tr>\n",
       "      <th>2</th>\n",
       "      <td>Mount Hagen</td>\n",
       "      <td>5388</td>\n",
       "      <td>High</td>\n",
       "    </tr>\n",
       "    <tr>\n",
       "      <th>3</th>\n",
       "      <td>Nadzab</td>\n",
       "      <td>239</td>\n",
       "      <td>Moderate</td>\n",
       "    </tr>\n",
       "    <tr>\n",
       "      <th>4</th>\n",
       "      <td>Port Moresby Jacksons Intl</td>\n",
       "      <td>146</td>\n",
       "      <td>Moderate</td>\n",
       "    </tr>\n",
       "    <tr>\n",
       "      <th>5</th>\n",
       "      <td>Wewak Intl</td>\n",
       "      <td>19</td>\n",
       "      <td>Low</td>\n",
       "    </tr>\n",
       "    <tr>\n",
       "      <th>6</th>\n",
       "      <td>Narsarsuaq</td>\n",
       "      <td>112</td>\n",
       "      <td>Moderate</td>\n",
       "    </tr>\n",
       "    <tr>\n",
       "      <th>7</th>\n",
       "      <td>Nuuk</td>\n",
       "      <td>283</td>\n",
       "      <td>Moderate</td>\n",
       "    </tr>\n",
       "    <tr>\n",
       "      <th>8</th>\n",
       "      <td>Sondre Stromfjord</td>\n",
       "      <td>165</td>\n",
       "      <td>Moderate</td>\n",
       "    </tr>\n",
       "    <tr>\n",
       "      <th>9</th>\n",
       "      <td>Thule Air Base</td>\n",
       "      <td>251</td>\n",
       "      <td>Moderate</td>\n",
       "    </tr>\n",
       "    <tr>\n",
       "      <th>10</th>\n",
       "      <td>Akureyri</td>\n",
       "      <td>6</td>\n",
       "      <td>Low</td>\n",
       "    </tr>\n",
       "    <tr>\n",
       "      <th>11</th>\n",
       "      <td>Egilsstadir</td>\n",
       "      <td>76</td>\n",
       "      <td>Low</td>\n",
       "    </tr>\n",
       "    <tr>\n",
       "      <th>12</th>\n",
       "      <td>Hornafjordur</td>\n",
       "      <td>24</td>\n",
       "      <td>Low</td>\n",
       "    </tr>\n",
       "    <tr>\n",
       "      <th>13</th>\n",
       "      <td>Husavik</td>\n",
       "      <td>48</td>\n",
       "      <td>Low</td>\n",
       "    </tr>\n",
       "    <tr>\n",
       "      <th>14</th>\n",
       "      <td>Isafjordur</td>\n",
       "      <td>8</td>\n",
       "      <td>Low</td>\n",
       "    </tr>\n",
       "    <tr>\n",
       "      <th>15</th>\n",
       "      <td>Keflavik International Airport</td>\n",
       "      <td>171</td>\n",
       "      <td>Moderate</td>\n",
       "    </tr>\n",
       "    <tr>\n",
       "      <th>16</th>\n",
       "      <td>Patreksfjordur</td>\n",
       "      <td>11</td>\n",
       "      <td>Low</td>\n",
       "    </tr>\n",
       "    <tr>\n",
       "      <th>17</th>\n",
       "      <td>Reykjavik</td>\n",
       "      <td>48</td>\n",
       "      <td>Low</td>\n",
       "    </tr>\n",
       "    <tr>\n",
       "      <th>18</th>\n",
       "      <td>Siglufjordur</td>\n",
       "      <td>10</td>\n",
       "      <td>Low</td>\n",
       "    </tr>\n",
       "    <tr>\n",
       "      <th>19</th>\n",
       "      <td>Vestmannaeyjar</td>\n",
       "      <td>326</td>\n",
       "      <td>Moderate</td>\n",
       "    </tr>\n",
       "  </tbody>\n",
       "</table>\n",
       "</div>"
      ],
      "text/plain": [
       "                      Airport Name  Altitude (ft) Altitude Category\n",
       "0                           Goroka           5282              High\n",
       "1                           Madang             20               Low\n",
       "2                      Mount Hagen           5388              High\n",
       "3                           Nadzab            239          Moderate\n",
       "4       Port Moresby Jacksons Intl            146          Moderate\n",
       "5                       Wewak Intl             19               Low\n",
       "6                       Narsarsuaq            112          Moderate\n",
       "7                             Nuuk            283          Moderate\n",
       "8                Sondre Stromfjord            165          Moderate\n",
       "9                   Thule Air Base            251          Moderate\n",
       "10                        Akureyri              6               Low\n",
       "11                     Egilsstadir             76               Low\n",
       "12                    Hornafjordur             24               Low\n",
       "13                         Husavik             48               Low\n",
       "14                      Isafjordur              8               Low\n",
       "15  Keflavik International Airport            171          Moderate\n",
       "16                  Patreksfjordur             11               Low\n",
       "17                       Reykjavik             48               Low\n",
       "18                    Siglufjordur             10               Low\n",
       "19                  Vestmannaeyjar            326          Moderate"
      ]
     },
     "execution_count": 73,
     "metadata": {},
     "output_type": "execute_result"
    }
   ],
   "source": [
    "pd.read_sql(\"\"\"\n",
    "\n",
    "SELECT name AS \"Airport Name\", \n",
    "       CAST(altitude AS int) AS \"Altitude (ft)\",\n",
    "       CASE \n",
    "            WHEN CAST(altitude AS int) > 1000 THEN \"High\"\n",
    "            WHEN CAST(altitude AS int) < 100 THEN \"Low\"\n",
    "            ELSE \"Moderate\"\n",
    "       END AS \"Altitude Category\"\n",
    "       \n",
    "FROM airports\n",
    "         \n",
    "LIMIT 20\n",
    "\n",
    "\"\"\", con)"
   ]
  },
  {
   "cell_type": "markdown",
   "metadata": {
    "heading_collapsed": true,
    "slideshow": {
     "slide_type": "slide"
    }
   },
   "source": [
    "# Level Up: SQL Joins"
   ]
  },
  {
   "cell_type": "markdown",
   "metadata": {
    "hidden": true,
    "slideshow": {
     "slide_type": "fragment"
    }
   },
   "source": [
    "SQL joins can be used to both **add** data to a table and **remove** data from a table. "
   ]
  },
  {
   "cell_type": "markdown",
   "metadata": {
    "hidden": true,
    "slideshow": {
     "slide_type": "fragment"
    }
   },
   "source": [
    "![venn](img/venn.png)"
   ]
  },
  {
   "cell_type": "markdown",
   "metadata": {
    "hidden": true
   },
   "source": [
    "How are these different joins possible?\n",
    "\n",
    "Notice that I choose a column from each table \"on\" which to effect the join. This is the means by which I pair up the records from one table with the records of another.\n",
    "\n",
    "Look back up at the sample diagram under \"What is a Relational Database?\". We might use the \"student_id\" column to match up names in the names table with grades in the grades table. But what if there are values in one table's version of \"student_id\" that don't appear in the other table's version? In that case we need to let the software know whether or not we want to have *all* of the records, regardless of whether they have corresponding entries in all the tables we are joining. This makes for the variety depicted above.\n",
    "\n",
    "- If I select records from \"A INNER JOIN B\", then a record will be displayed *only if it exists in both tables*.\n",
    "\n",
    "- If I select records from \"A LEFT JOIN B\", then *all relevant records from A will be displayed*, regardless of whether they have representation in B. Records from B with no representation in A will *not* be displayed."
   ]
  },
  {
   "cell_type": "code",
   "execution_count": 77,
   "metadata": {},
   "outputs": [],
   "source": [
    "airlines_df"
   ]
  },
  {
   "cell_type": "code",
   "execution_count": 74,
   "metadata": {
    "hidden": true
   },
   "outputs": [
    {
     "data": {
      "text/html": [
       "<div>\n",
       "<style scoped>\n",
       "    .dataframe tbody tr th:only-of-type {\n",
       "        vertical-align: middle;\n",
       "    }\n",
       "\n",
       "    .dataframe tbody tr th {\n",
       "        vertical-align: top;\n",
       "    }\n",
       "\n",
       "    .dataframe thead th {\n",
       "        text-align: right;\n",
       "    }\n",
       "</style>\n",
       "<table border=\"1\" class=\"dataframe\">\n",
       "  <thead>\n",
       "    <tr style=\"text-align: right;\">\n",
       "      <th></th>\n",
       "      <th>name</th>\n",
       "      <th>name</th>\n",
       "      <th>country</th>\n",
       "    </tr>\n",
       "  </thead>\n",
       "  <tbody>\n",
       "    <tr>\n",
       "      <th>0</th>\n",
       "      <td>Narsarsuaq</td>\n",
       "      <td>None</td>\n",
       "      <td>Greenland</td>\n",
       "    </tr>\n",
       "    <tr>\n",
       "      <th>1</th>\n",
       "      <td>Nuuk</td>\n",
       "      <td>None</td>\n",
       "      <td>Greenland</td>\n",
       "    </tr>\n",
       "    <tr>\n",
       "      <th>2</th>\n",
       "      <td>Sondre Stromfjord</td>\n",
       "      <td>None</td>\n",
       "      <td>Greenland</td>\n",
       "    </tr>\n",
       "    <tr>\n",
       "      <th>3</th>\n",
       "      <td>Thule Air Base</td>\n",
       "      <td>None</td>\n",
       "      <td>Greenland</td>\n",
       "    </tr>\n",
       "    <tr>\n",
       "      <th>4</th>\n",
       "      <td>Alderney</td>\n",
       "      <td>None</td>\n",
       "      <td>Guernsey</td>\n",
       "    </tr>\n",
       "  </tbody>\n",
       "</table>\n",
       "</div>"
      ],
      "text/plain": [
       "                name  name    country\n",
       "0         Narsarsuaq  None  Greenland\n",
       "1               Nuuk  None  Greenland\n",
       "2  Sondre Stromfjord  None  Greenland\n",
       "3     Thule Air Base  None  Greenland\n",
       "4           Alderney  None   Guernsey"
      ]
     },
     "execution_count": 74,
     "metadata": {},
     "output_type": "execute_result"
    }
   ],
   "source": [
    "pd.read_sql(\"\"\"\n",
    "\n",
    "    SELECT p.name, l.name, p.country\n",
    "    FROM airports p\n",
    "    LEFT JOIN airlines l\n",
    "    ON p.country=l.country\n",
    "    ORDER BY l.name\n",
    "    LIMIT 5\n",
    "    \n",
    "\"\"\", con)"
   ]
  },
  {
   "cell_type": "code",
   "execution_count": 78,
   "metadata": {
    "hidden": true
   },
   "outputs": [
    {
     "data": {
      "text/html": [
       "<div>\n",
       "<style scoped>\n",
       "    .dataframe tbody tr th:only-of-type {\n",
       "        vertical-align: middle;\n",
       "    }\n",
       "\n",
       "    .dataframe tbody tr th {\n",
       "        vertical-align: top;\n",
       "    }\n",
       "\n",
       "    .dataframe thead th {\n",
       "        text-align: right;\n",
       "    }\n",
       "</style>\n",
       "<table border=\"1\" class=\"dataframe\">\n",
       "  <thead>\n",
       "    <tr style=\"text-align: right;\">\n",
       "      <th></th>\n",
       "      <th>name</th>\n",
       "      <th>name</th>\n",
       "      <th>country</th>\n",
       "    </tr>\n",
       "  </thead>\n",
       "  <tbody>\n",
       "    <tr>\n",
       "      <th>0</th>\n",
       "      <td>Don Muang Intl</td>\n",
       "      <td>1-2-go</td>\n",
       "      <td>Thailand</td>\n",
       "    </tr>\n",
       "    <tr>\n",
       "      <th>1</th>\n",
       "      <td>Kamphaeng Saen</td>\n",
       "      <td>1-2-go</td>\n",
       "      <td>Thailand</td>\n",
       "    </tr>\n",
       "    <tr>\n",
       "      <th>2</th>\n",
       "      <td>Khok Kathiam</td>\n",
       "      <td>1-2-go</td>\n",
       "      <td>Thailand</td>\n",
       "    </tr>\n",
       "    <tr>\n",
       "      <th>3</th>\n",
       "      <td>U Taphao Intl</td>\n",
       "      <td>1-2-go</td>\n",
       "      <td>Thailand</td>\n",
       "    </tr>\n",
       "    <tr>\n",
       "      <th>4</th>\n",
       "      <td>Watthana Nakhon</td>\n",
       "      <td>1-2-go</td>\n",
       "      <td>Thailand</td>\n",
       "    </tr>\n",
       "  </tbody>\n",
       "</table>\n",
       "</div>"
      ],
      "text/plain": [
       "              name    name   country\n",
       "0   Don Muang Intl  1-2-go  Thailand\n",
       "1   Kamphaeng Saen  1-2-go  Thailand\n",
       "2     Khok Kathiam  1-2-go  Thailand\n",
       "3    U Taphao Intl  1-2-go  Thailand\n",
       "4  Watthana Nakhon  1-2-go  Thailand"
      ]
     },
     "execution_count": 78,
     "metadata": {},
     "output_type": "execute_result"
    }
   ],
   "source": [
    "pd.read_sql(\"\"\"\n",
    "    \n",
    "    SELECT p.name, l.name, p.country\n",
    "    FROM airports p\n",
    "    INNER JOIN airlines l\n",
    "    ON p.country=l.country\n",
    "    ORDER BY l.name\n",
    "    LIMIT 5\n",
    "    \n",
    "\"\"\", con)"
   ]
  },
  {
   "cell_type": "code",
   "execution_count": null,
   "metadata": {},
   "outputs": [],
   "source": []
  }
 ],
 "metadata": {
  "kernelspec": {
   "display_name": "Python 3",
   "language": "python",
   "name": "python3"
  },
  "language_info": {
   "codemirror_mode": {
    "name": "ipython",
    "version": 3
   },
   "file_extension": ".py",
   "mimetype": "text/x-python",
   "name": "python",
   "nbconvert_exporter": "python",
   "pygments_lexer": "ipython3",
   "version": "3.8.8"
  },
  "toc": {
   "base_numbering": 1,
   "nav_menu": {},
   "number_sections": true,
   "sideBar": true,
   "skip_h1_title": false,
   "title_cell": "Table of Contents",
   "title_sidebar": "TOC",
   "toc_cell": true,
   "toc_position": {
    "height": "calc(100% - 180px)",
    "left": "10px",
    "top": "150px",
    "width": "380px"
   },
   "toc_section_display": true,
   "toc_window_display": true
  }
 },
 "nbformat": 4,
 "nbformat_minor": 4
}
